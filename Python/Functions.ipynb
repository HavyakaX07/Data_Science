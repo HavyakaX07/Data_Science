{
 "cells": [
  {
   "cell_type": "markdown",
   "id": "8dcfd3d5",
   "metadata": {},
   "source": [
    "## In this section we will focusing on Function"
   ]
  },
  {
   "cell_type": "code",
   "execution_count": 1,
   "id": "ebfa4ed5",
   "metadata": {},
   "outputs": [],
   "source": [
    "def test(a,b):\n",
    "    #Creat documentation for this function using 3 qoutes\n",
    "    '''This is dummy function'''\n",
    "    return a+b"
   ]
  },
  {
   "cell_type": "code",
   "execution_count": 2,
   "id": "03e83c67",
   "metadata": {},
   "outputs": [
    {
     "data": {
      "text/plain": [
       "7"
      ]
     },
     "execution_count": 2,
     "metadata": {},
     "output_type": "execute_result"
    }
   ],
   "source": [
    "test(3,4)"
   ]
  },
  {
   "cell_type": "code",
   "execution_count": 10,
   "id": "bca6bb3d",
   "metadata": {},
   "outputs": [],
   "source": [
    "def variable_len_param(*a):#accept any number of elements standard key word is args\n",
    "    print(a)\n",
    "    print(type(a))"
   ]
  },
  {
   "cell_type": "code",
   "execution_count": 11,
   "id": "41fd7aa3",
   "metadata": {},
   "outputs": [
    {
     "name": "stdout",
     "output_type": "stream",
     "text": [
      "(1, 2, 3, 4)\n",
      "<class 'tuple'>\n"
     ]
    }
   ],
   "source": [
    "variable_len_param(1,2,3,4)#takes as tuple any number of elements"
   ]
  },
  {
   "cell_type": "code",
   "execution_count": 13,
   "id": "d161853d",
   "metadata": {},
   "outputs": [
    {
     "ename": "TypeError",
     "evalue": "test2() missing 2 required positional arguments: 'c' and 'd'",
     "output_type": "error",
     "traceback": [
      "\u001b[1;31m---------------------------------------------------------------------------\u001b[0m",
      "\u001b[1;31mTypeError\u001b[0m                                 Traceback (most recent call last)",
      "\u001b[1;32mC:\\Users\\PAE8E5~1.HEG\\AppData\\Local\\Temp/ipykernel_5164/1050059606.py\u001b[0m in \u001b[0;36m<module>\u001b[1;34m\u001b[0m\n\u001b[0;32m      1\u001b[0m \u001b[1;32mdef\u001b[0m \u001b[0mtest2\u001b[0m\u001b[1;33m(\u001b[0m\u001b[0ma\u001b[0m\u001b[1;33m,\u001b[0m\u001b[0mb\u001b[0m\u001b[1;33m,\u001b[0m\u001b[0mc\u001b[0m\u001b[1;33m,\u001b[0m\u001b[0md\u001b[0m\u001b[1;33m,\u001b[0m\u001b[1;33m*\u001b[0m\u001b[0mn\u001b[0m\u001b[1;33m)\u001b[0m\u001b[1;33m:\u001b[0m\u001b[1;33m\u001b[0m\u001b[1;33m\u001b[0m\u001b[0m\n\u001b[0;32m      2\u001b[0m     \u001b[0mprint\u001b[0m\u001b[1;33m(\u001b[0m\u001b[0ma\u001b[0m\u001b[1;33m,\u001b[0m\u001b[0mb\u001b[0m\u001b[1;33m,\u001b[0m\u001b[0mc\u001b[0m\u001b[1;33m,\u001b[0m\u001b[0md\u001b[0m\u001b[1;33m,\u001b[0m\u001b[0mn\u001b[0m\u001b[1;33m)\u001b[0m\u001b[1;33m\u001b[0m\u001b[1;33m\u001b[0m\u001b[0m\n\u001b[1;32m----> 3\u001b[1;33m \u001b[0mtest2\u001b[0m\u001b[1;33m(\u001b[0m\u001b[1;36m1\u001b[0m\u001b[1;33m,\u001b[0m\u001b[1;36m2\u001b[0m\u001b[1;33m)\u001b[0m\u001b[1;33m\u001b[0m\u001b[1;33m\u001b[0m\u001b[0m\n\u001b[0m",
      "\u001b[1;31mTypeError\u001b[0m: test2() missing 2 required positional arguments: 'c' and 'd'"
     ]
    }
   ],
   "source": [
    "def test2(a,b,c,d,*n):#You have to provide mandatory 4 value after that any number of values \n",
    "                      #takes that for n\n",
    "    print(a,b,c,d,n)\n",
    "test2(1,2)"
   ]
  },
  {
   "cell_type": "code",
   "execution_count": 16,
   "id": "6c795d70",
   "metadata": {},
   "outputs": [
    {
     "ename": "SyntaxError",
     "evalue": "invalid syntax (Temp/ipykernel_5164/1426552427.py, line 1)",
     "output_type": "error",
     "traceback": [
      "\u001b[1;36m  File \u001b[1;32m\"C:\\Users\\PAE8E5~1.HEG\\AppData\\Local\\Temp/ipykernel_5164/1426552427.py\"\u001b[1;36m, line \u001b[1;32m1\u001b[0m\n\u001b[1;33m    def test3(*n,*m):#You can not have 2 * param\u001b[0m\n\u001b[1;37m                 ^\u001b[0m\n\u001b[1;31mSyntaxError\u001b[0m\u001b[1;31m:\u001b[0m invalid syntax\n"
     ]
    }
   ],
   "source": [
    "def test3(*n,*m):#You can not have 2 * param there is no need\n",
    "    print(n,m)\n",
    "test3(3,4,5)"
   ]
  },
  {
   "cell_type": "code",
   "execution_count": 17,
   "id": "3bad3fbe",
   "metadata": {},
   "outputs": [
    {
     "name": "stdout",
     "output_type": "stream",
     "text": [
      "Success\n"
     ]
    }
   ],
   "source": [
    "def test4(*n,a,c,d,e):#If you have * at first then you need to pass param like key:value\n",
    "    print('Success')\n",
    "test4(2,3,4,5,a=10,d=9,c=9,e=89)#like this"
   ]
  },
  {
   "cell_type": "code",
   "execution_count": 18,
   "id": "fdc50ab6",
   "metadata": {},
   "outputs": [
    {
     "name": "stdout",
     "output_type": "stream",
     "text": [
      "{'a': 1, 'b': 2, 'c': 3, 'd': 4}\n",
      "<class 'dict'>\n"
     ]
    }
   ],
   "source": [
    "def test5(**kwargs):\n",
    "    print(kwargs)\n",
    "    print(type(kwargs))\n",
    "test5(a=1,b=2,c=3,d=4)#But you can'nt directly pass dict"
   ]
  },
  {
   "cell_type": "code",
   "execution_count": 19,
   "id": "7f6b3cdf",
   "metadata": {},
   "outputs": [
    {
     "ename": "TypeError",
     "evalue": "test5() takes 0 positional arguments but 1 was given",
     "output_type": "error",
     "traceback": [
      "\u001b[1;31m---------------------------------------------------------------------------\u001b[0m",
      "\u001b[1;31mTypeError\u001b[0m                                 Traceback (most recent call last)",
      "\u001b[1;32mC:\\Users\\PAE8E5~1.HEG\\AppData\\Local\\Temp/ipykernel_5164/1044091025.py\u001b[0m in \u001b[0;36m<module>\u001b[1;34m\u001b[0m\n\u001b[0;32m      1\u001b[0m \u001b[0md\u001b[0m\u001b[1;33m=\u001b[0m\u001b[1;33m{\u001b[0m\u001b[1;36m1\u001b[0m\u001b[1;33m:\u001b[0m\u001b[1;34m'a'\u001b[0m\u001b[1;33m,\u001b[0m\u001b[1;36m2\u001b[0m\u001b[1;33m:\u001b[0m\u001b[1;34m'b'\u001b[0m\u001b[1;33m}\u001b[0m\u001b[1;33m\u001b[0m\u001b[1;33m\u001b[0m\u001b[0m\n\u001b[1;32m----> 2\u001b[1;33m \u001b[0mtest5\u001b[0m\u001b[1;33m(\u001b[0m\u001b[0md\u001b[0m\u001b[1;33m)\u001b[0m\u001b[1;33m\u001b[0m\u001b[1;33m\u001b[0m\u001b[0m\n\u001b[0m",
      "\u001b[1;31mTypeError\u001b[0m: test5() takes 0 positional arguments but 1 was given"
     ]
    }
   ],
   "source": [
    "d={1:'a',2:'b'}\n",
    "test5(d)#Not works"
   ]
  },
  {
   "cell_type": "code",
   "execution_count": 27,
   "id": "b6196ff6",
   "metadata": {},
   "outputs": [
    {
     "ename": "SyntaxError",
     "evalue": "invalid syntax (Temp/ipykernel_5164/623284568.py, line 1)",
     "output_type": "error",
     "traceback": [
      "\u001b[1;36m  File \u001b[1;32m\"C:\\Users\\PAE8E5~1.HEG\\AppData\\Local\\Temp/ipykernel_5164/623284568.py\"\u001b[1;36m, line \u001b[1;32m1\u001b[0m\n\u001b[1;33m    def test6(**kwargs,f):\u001b[0m\n\u001b[1;37m                       ^\u001b[0m\n\u001b[1;31mSyntaxError\u001b[0m\u001b[1;31m:\u001b[0m invalid syntax\n"
     ]
    }
   ],
   "source": [
    "def test6(**kwargs,f):#This will not work\n",
    "    print(kwargs)\n",
    "test6(a=1,b=2,c=3,44)"
   ]
  },
  {
   "cell_type": "code",
   "execution_count": 34,
   "id": "3f8a6b8b",
   "metadata": {},
   "outputs": [
    {
     "name": "stdout",
     "output_type": "stream",
     "text": [
      "{'a': 1, 'b': 2, 'c': 3}\n",
      "44\n"
     ]
    }
   ],
   "source": [
    "def test6(f,*args,**kwargs):\n",
    "    print(kwargs)\n",
    "    print(f)\n",
    "test6(44,45,35,36,a=1,b=2,c=3)"
   ]
  },
  {
   "cell_type": "markdown",
   "id": "994547eb",
   "metadata": {},
   "source": [
    "### Ananomys Function. Function with out name [Lambda]"
   ]
  },
  {
   "cell_type": "code",
   "execution_count": 35,
   "id": "cb646d8d",
   "metadata": {},
   "outputs": [
    {
     "data": {
      "text/plain": [
       "7"
      ]
     },
     "execution_count": 35,
     "metadata": {},
     "output_type": "execute_result"
    }
   ],
   "source": [
    "l=lambda a,b:a+b#No name\n",
    "l(3,4)"
   ]
  },
  {
   "cell_type": "code",
   "execution_count": 36,
   "id": "6851787a",
   "metadata": {},
   "outputs": [
    {
     "data": {
      "text/plain": [
       "(2, 3, 4, 5)"
      ]
     },
     "execution_count": 36,
     "metadata": {},
     "output_type": "execute_result"
    }
   ],
   "source": [
    "l1=lambda *a:a\n",
    "l1(2,3,4,5)"
   ]
  },
  {
   "cell_type": "markdown",
   "id": "93b3b0bc",
   "metadata": {},
   "source": [
    "### List comprehension"
   ]
  },
  {
   "cell_type": "code",
   "execution_count": 40,
   "id": "63b2b2f2",
   "metadata": {},
   "outputs": [
    {
     "data": {
      "text/plain": [
       "[36, 49, 64, 81]"
      ]
     },
     "execution_count": 40,
     "metadata": {},
     "output_type": "execute_result"
    }
   ],
   "source": [
    "[i*i for i in range(10) if i>5]"
   ]
  },
  {
   "cell_type": "code",
   "execution_count": 45,
   "id": "93ad0d9d",
   "metadata": {},
   "outputs": [
    {
     "data": {
      "text/plain": [
       "[1, 4, 9, 16]"
      ]
     },
     "execution_count": 45,
     "metadata": {},
     "output_type": "execute_result"
    }
   ],
   "source": [
    "l3=lambda *x : [i*i for i in x]\n",
    "l3(1,2,3,4)"
   ]
  },
  {
   "cell_type": "code",
   "execution_count": 69,
   "id": "b72579e9",
   "metadata": {},
   "outputs": [],
   "source": [
    "l=[1,2,3]"
   ]
  },
  {
   "cell_type": "markdown",
   "id": "20f1c710",
   "metadata": {},
   "source": [
    "### Packing and Unpacking Using * and **"
   ]
  },
  {
   "cell_type": "code",
   "execution_count": 56,
   "id": "1b7ccef6",
   "metadata": {},
   "outputs": [
    {
     "name": "stdout",
     "output_type": "stream",
     "text": [
      "[1, 2, 3]\n",
      "1 2 3\n",
      "1 2 3\n"
     ]
    }
   ],
   "source": [
    "def test8(a,b,c):\n",
    "    print(a,b,c)\n",
    "l1=[1,2,3]\n",
    "print(l1)#This will give list itself\n",
    "print(*l1)#The difference is that it will unpack the whole list and give the element\n",
    "test8(*l1)#This is one of the example"
   ]
  },
  {
   "cell_type": "code",
   "execution_count": 58,
   "id": "c6f9daf4",
   "metadata": {},
   "outputs": [
    {
     "name": "stdout",
     "output_type": "stream",
     "text": [
      "Name age\n",
      "Prasanna 22\n",
      "R a m a a\n"
     ]
    }
   ],
   "source": [
    "#we can make use of all iterables for packing and unpacking\n",
    "d={'Name':'Prasanna','age':22}\n",
    "print(*d)#By default gives the key unpack\n",
    "print(*d.values())#Gives the value unpack\n",
    "s=\"Ramaa\"\n",
    "print(*s)"
   ]
  },
  {
   "cell_type": "code",
   "execution_count": 68,
   "id": "d01ba201",
   "metadata": {},
   "outputs": [
    {
     "name": "stdout",
     "output_type": "stream",
     "text": [
      "1\n",
      "[2, 3, 4, 5, 6]\n",
      "7\n"
     ]
    }
   ],
   "source": [
    "a,*b,c=[1,2,3,4,5,6,7]\n",
    "print(a)\n",
    "print(b)\n",
    "print(c)"
   ]
  },
  {
   "cell_type": "code",
   "execution_count": 72,
   "id": "dd053473",
   "metadata": {},
   "outputs": [
    {
     "name": "stdout",
     "output_type": "stream",
     "text": [
      "{'name': 'Prasanna', 'Age': 22, 'name1': 'Abhi', 'Age1': 23}\n"
     ]
    }
   ],
   "source": [
    "d1={'name':'Prasanna','Age':22}\n",
    "d2={'name1':'Abhi','Age1':23}\n",
    "d3={**d1,**d2}\n",
    "print(d3)"
   ]
  },
  {
   "cell_type": "code",
   "execution_count": 78,
   "id": "b50a5f3e",
   "metadata": {},
   "outputs": [
    {
     "name": "stdout",
     "output_type": "stream",
     "text": [
      "646\n"
     ]
    }
   ],
   "source": [
    "def test9(*args):#Then packed\n",
    "    re=0\n",
    "    for i in args:#again unpacking via iterating\n",
    "        re+=i\n",
    "    return re\n",
    "l1=(1,2,3)\n",
    "l2=(10,20,10)\n",
    "l3=[100,200,300]\n",
    "print(test9(*l1,*l2,*l3))#Here it unpacked "
   ]
  },
  {
   "cell_type": "code",
   "execution_count": 76,
   "id": "42936720",
   "metadata": {},
   "outputs": [
    {
     "name": "stdout",
     "output_type": "stream",
     "text": [
      "10 12 20\n"
     ]
    }
   ],
   "source": [
    "def test10(a,b,c):\n",
    "    print(a,b,c)\n",
    "d={'a':10,'b':12,'c':20}\n",
    "test10(**d)#same as test10(a=10,b=12,c=20)"
   ]
  },
  {
   "cell_type": "code",
   "execution_count": null,
   "id": "5e58603f",
   "metadata": {},
   "outputs": [],
   "source": []
  }
 ],
 "metadata": {
  "kernelspec": {
   "display_name": "Python 3 (ipykernel)",
   "language": "python",
   "name": "python3"
  },
  "language_info": {
   "codemirror_mode": {
    "name": "ipython",
    "version": 3
   },
   "file_extension": ".py",
   "mimetype": "text/x-python",
   "name": "python",
   "nbconvert_exporter": "python",
   "pygments_lexer": "ipython3",
   "version": "3.9.7"
  }
 },
 "nbformat": 4,
 "nbformat_minor": 5
}
