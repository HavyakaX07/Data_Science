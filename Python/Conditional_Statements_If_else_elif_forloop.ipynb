{
 "cells": [
  {
   "cell_type": "markdown",
   "id": "9f939c2e",
   "metadata": {},
   "source": [
    "## Conditional Execution helps to route your program execution to different paths"
   ]
  },
  {
   "cell_type": "markdown",
   "id": "3e07640a",
   "metadata": {},
   "source": [
    "### If, elif, else"
   ]
  },
  {
   "cell_type": "markdown",
   "id": "3534b24f",
   "metadata": {},
   "source": [
    "#### Here order matters so observe your ordering of condition"
   ]
  },
  {
   "cell_type": "code",
   "execution_count": 6,
   "id": "62fdc9e4",
   "metadata": {},
   "outputs": [
    {
     "name": "stdout",
     "output_type": "stream",
     "text": [
      "If executed\n"
     ]
    }
   ],
   "source": [
    "a=10\n",
    "if(a==10):\n",
    "    print(\"If executed\")"
   ]
  },
  {
   "cell_type": "code",
   "execution_count": 10,
   "id": "ec7ce92e",
   "metadata": {},
   "outputs": [
    {
     "name": "stdout",
     "output_type": "stream",
     "text": [
      "10\n",
      "10\n"
     ]
    }
   ],
   "source": [
    "if(a==10):\n",
    "    pass#just go on\n",
    "    print(10)\n",
    "if(a==10):\n",
    "    print(10)"
   ]
  },
  {
   "cell_type": "code",
   "execution_count": 19,
   "id": "23af2a6a",
   "metadata": {},
   "outputs": [],
   "source": [
    "if(a==7):# if should be there but elif and else are optional and else should not have condition\n",
    "    print(7)\n",
    "elif(a==8):\n",
    "    print(8)\n",
    "elif(a==1):\n",
    "    print(10)"
   ]
  },
  {
   "cell_type": "code",
   "execution_count": 21,
   "id": "7ee795b1",
   "metadata": {},
   "outputs": [
    {
     "name": "stdout",
     "output_type": "stream",
     "text": [
      "2 is available\n",
      "4 is available\n"
     ]
    }
   ],
   "source": [
    "l=[1,2,3,4]\n",
    "if 2 in l:\n",
    "    print('2 is available')#since this is true further condition following \n",
    "    #conditon that belongs to this if will not run\n",
    "elif 3 in l:#This will not run\n",
    "    print(' 3 is available')\n",
    "if 4 in l:#Since it is different if it will work\n",
    "    print('4 is available')"
   ]
  },
  {
   "cell_type": "code",
   "execution_count": 23,
   "id": "34ee4484",
   "metadata": {},
   "outputs": [
    {
     "name": "stdout",
     "output_type": "stream",
     "text": [
      "Enter a input2\n",
      "2 is present in the list!\n"
     ]
    }
   ],
   "source": [
    "in1=int(input(\"Enter a input\"))#Default is str so have to convert to int\n",
    "if in1 in l:\n",
    "    print(f'{in1} is present in the list!')#PEP 498 introduce the literal string interpolation to \n",
    "    #Simplify the expression evaluation inside print statement."
   ]
  },
  {
   "cell_type": "code",
   "execution_count": 24,
   "id": "e8eaf33f",
   "metadata": {},
   "outputs": [
    {
     "name": "stdout",
     "output_type": "stream",
     "text": [
      "You entered String\n"
     ]
    }
   ],
   "source": [
    "s='String'\n",
    "if s=='string' or s=='String':\n",
    "    print('You entered String')\n",
    "else:\n",
    "    print('Printed somthing else')"
   ]
  },
  {
   "cell_type": "markdown",
   "id": "6696e4c9",
   "metadata": {},
   "source": [
    "## For loop "
   ]
  },
  {
   "cell_type": "markdown",
   "id": "0989313b",
   "metadata": {},
   "source": [
    "### _ meaning in different scenarios"
   ]
  },
  {
   "cell_type": "code",
   "execution_count": 27,
   "id": "c2d81092",
   "metadata": {},
   "outputs": [
    {
     "name": "stdout",
     "output_type": "stream",
     "text": [
      "Hello 0\n",
      "Hello 1\n",
      "Hello 2\n",
      "Hello 3\n",
      "Hello 4\n",
      "Hello 5\n",
      "Hello 6\n",
      "Hello 7\n",
      "Hello 8\n",
      "Hello 9\n",
      "9\n"
     ]
    }
   ],
   "source": [
    "for _ in range(10): #Used as do nothing variable\n",
    "    print('Hello',_)\n",
    "print(_)"
   ]
  },
  {
   "cell_type": "code",
   "execution_count": 1,
   "id": "e677bb61",
   "metadata": {},
   "outputs": [],
   "source": [
    "# If I use _var in one module then if I import that module inside another than it will not import \n",
    "#_var because it is treated as weak variable\n",
    "#__var if i use double __ then it is treated as private variable we can't access it outside the class\n",
    "#var_ if i use like this it is mainly used to have variable that has same name as keywords"
   ]
  },
  {
   "cell_type": "code",
   "execution_count": 2,
   "id": "09b5189d",
   "metadata": {},
   "outputs": [
    {
     "name": "stdout",
     "output_type": "stream",
     "text": [
      "1\n",
      "2\n",
      "3\n",
      "3\n"
     ]
    }
   ],
   "source": [
    "for i in [1,2,3]:\n",
    "    print(i)\n",
    "print(i)#holds last value"
   ]
  },
  {
   "cell_type": "markdown",
   "id": "017ddcf3",
   "metadata": {},
   "source": [
    "### For-Else-Break"
   ]
  },
  {
   "cell_type": "markdown",
   "id": "a24f784e",
   "metadata": {},
   "source": [
    "#### Else block executes only after for loop completely iterates"
   ]
  },
  {
   "cell_type": "code",
   "execution_count": 8,
   "id": "d98a4183",
   "metadata": {},
   "outputs": [
    {
     "name": "stdout",
     "output_type": "stream",
     "text": [
      "Yes I found the element\n"
     ]
    }
   ],
   "source": [
    "for i in [2,4,6,8]:\n",
    "    if(i==2):#change that to any other value.\n",
    "        print('Yes I found the element')\n",
    "        break#if there is no break than else also prints\n",
    "else:\n",
    "    print('I did not found the element!')"
   ]
  },
  {
   "cell_type": "code",
   "execution_count": 9,
   "id": "ffc70a2e",
   "metadata": {},
   "outputs": [],
   "source": [
    "l=[1,2,3,4,5]\n",
    "t=(34,45,56,67)\n",
    "s={3,3,3,35,4,23,78,78}\n",
    "d={'name':'Prasanna','age':'23','Education':'B.E'}"
   ]
  },
  {
   "cell_type": "code",
   "execution_count": 10,
   "id": "e97312d3",
   "metadata": {},
   "outputs": [
    {
     "name": "stdout",
     "output_type": "stream",
     "text": [
      "1\n",
      "2\n",
      "3\n",
      "4\n",
      "5\n"
     ]
    }
   ],
   "source": [
    "for i in l:\n",
    "    print(i)"
   ]
  },
  {
   "cell_type": "code",
   "execution_count": 11,
   "id": "35773e72",
   "metadata": {},
   "outputs": [
    {
     "name": "stdout",
     "output_type": "stream",
     "text": [
      "34\n",
      "45\n",
      "56\n",
      "67\n"
     ]
    }
   ],
   "source": [
    "for i in t:\n",
    "    print(i)"
   ]
  },
  {
   "cell_type": "code",
   "execution_count": 14,
   "id": "6451442e",
   "metadata": {},
   "outputs": [
    {
     "name": "stdout",
     "output_type": "stream",
     "text": [
      "3\n",
      "35\n",
      "4\n",
      "23\n",
      "78\n"
     ]
    }
   ],
   "source": [
    "for i in s:\n",
    "    print(i)"
   ]
  },
  {
   "cell_type": "code",
   "execution_count": 16,
   "id": "9478f47c",
   "metadata": {},
   "outputs": [
    {
     "name": "stdout",
     "output_type": "stream",
     "text": [
      "name\n",
      "age\n",
      "Education\n"
     ]
    }
   ],
   "source": [
    "for i in d:\n",
    "    print(i) #give list of keys"
   ]
  },
  {
   "cell_type": "code",
   "execution_count": 17,
   "id": "5ab96dcd",
   "metadata": {},
   "outputs": [
    {
     "name": "stdout",
     "output_type": "stream",
     "text": [
      "name : Prasanna\n",
      "age : 23\n",
      "Education : B.E\n"
     ]
    }
   ],
   "source": [
    "for i in d:\n",
    "    print(i ,':',d[i])"
   ]
  },
  {
   "cell_type": "markdown",
   "id": "65ea39d9",
   "metadata": {},
   "source": [
    "### Printing patterns"
   ]
  },
  {
   "cell_type": "code",
   "execution_count": 21,
   "id": "c5428e51",
   "metadata": {},
   "outputs": [
    {
     "name": "stdout",
     "output_type": "stream",
     "text": [
      "* \n",
      "* * \n",
      "* * * \n",
      "* * * * \n"
     ]
    }
   ],
   "source": [
    "for i in range(4):\n",
    "    for j in range(0,i+1):\n",
    "        print('*',end=' ')\n",
    "    print(end='\\n')"
   ]
  },
  {
   "cell_type": "code",
   "execution_count": 23,
   "id": "9014a85b",
   "metadata": {},
   "outputs": [
    {
     "name": "stdout",
     "output_type": "stream",
     "text": [
      "\n",
      "* \n",
      "* ** \n",
      "* ** *** \n"
     ]
    }
   ],
   "source": [
    "for i in range(4):\n",
    "    for j in range(1,i+1):\n",
    "        print(j*'*',end=\" \")\n",
    "    print(end='\\n')"
   ]
  },
  {
   "cell_type": "code",
   "execution_count": 24,
   "id": "c4e5ea02",
   "metadata": {},
   "outputs": [
    {
     "name": "stdout",
     "output_type": "stream",
     "text": [
      "     X     \n",
      "    X X    \n",
      "   X X X   \n",
      "  X X X X  \n"
     ]
    }
   ],
   "source": [
    "for i in range(4):\n",
    "    s=4-i\n",
    "    print(s*\" \",end=' ')\n",
    "    for j in range(i+1):\n",
    "        print('X',end=' ')\n",
    "    print(s*\" \",end='\\n')"
   ]
  },
  {
   "cell_type": "code",
   "execution_count": 45,
   "id": "de6e2d10",
   "metadata": {},
   "outputs": [
    {
     "name": "stdout",
     "output_type": "stream",
     "text": [
      "     X     \n",
      "    X X    \n",
      "   X X X   \n",
      "  X X X X  \n",
      "   X X X   \n",
      "    X X    \n",
      "     X     \n"
     ]
    }
   ],
   "source": [
    "#diamond shape\n",
    "for i in range(4):\n",
    "    s=4-i\n",
    "    print(s*\" \",end=\" \")\n",
    "    for j in range(i+1):\n",
    "        print('X',end=\" \")\n",
    "    print(s*\" \",end='\\n')    \n",
    "    if(i==3):\n",
    "        for k in range(i-1,-1,-1):\n",
    "            s=4-k\n",
    "            print(s*\" \",end=\" \")\n",
    "            for l in range(k+1):\n",
    "                print('X',end=' ')\n",
    "            print(s*\" \",end='\\n')\n",
    "                \n",
    "            \n",
    "            "
   ]
  },
  {
   "cell_type": "code",
   "execution_count": 52,
   "id": "bae28164",
   "metadata": {},
   "outputs": [
    {
     "name": "stdout",
     "output_type": "stream",
     "text": [
      "     X\n",
      "    XXX\n",
      "   XXXXX\n",
      "  XXXXXXX\n",
      "   XXXXX\n",
      "    XXX\n",
      "     X\n"
     ]
    }
   ],
   "source": [
    "#Optimised code\n",
    "for i in range(3):\n",
    "    print((4-i)*\" \",(2*i+1)*'X')\n",
    "for j in range(3,-1,-1):\n",
    "    print((4-j)*\" \",(2*j+1)*'X')"
   ]
  },
  {
   "cell_type": "code",
   "execution_count": 25,
   "id": "67758629",
   "metadata": {},
   "outputs": [
    {
     "name": "stdout",
     "output_type": "stream",
     "text": [
      "n\n",
      "o\n",
      "r\n",
      "u\n",
      "e\n",
      "n\n",
      "I\n"
     ]
    }
   ],
   "source": [
    "s='Ineuron'\n",
    "for i in range(len(s)-1,-1,-1):#Start from last go till first\n",
    "    print(s[i])"
   ]
  },
  {
   "cell_type": "code",
   "execution_count": 26,
   "id": "3a1c07c1",
   "metadata": {},
   "outputs": [
    {
     "data": {
      "text/plain": [
       "{'a', 'b', 'c', 'd', 'f'}"
      ]
     },
     "execution_count": 26,
     "metadata": {},
     "output_type": "execute_result"
    }
   ],
   "source": [
    "s='aaaabbbcccdf'\n",
    "s1=set(s)\n",
    "s1"
   ]
  },
  {
   "cell_type": "code",
   "execution_count": 27,
   "id": "0e643bdd",
   "metadata": {},
   "outputs": [
    {
     "name": "stdout",
     "output_type": "stream",
     "text": [
      "f  occured  1  many times\n",
      "a  occured  4  many times\n",
      "d  occured  1  many times\n",
      "b  occured  3  many times\n",
      "c  occured  3  many times\n"
     ]
    }
   ],
   "source": [
    "for i in s1:\n",
    "    print(i,' occured ',str(s.count(i)),' many times')"
   ]
  },
  {
   "cell_type": "code",
   "execution_count": 28,
   "id": "374ae925",
   "metadata": {},
   "outputs": [
    {
     "name": "stdout",
     "output_type": "stream",
     "text": [
      "name Prasanna\n",
      "age 23\n",
      "Education B.E\n"
     ]
    }
   ],
   "source": [
    "for k,v in d.items():\n",
    "    print(k,end=' ')\n",
    "    print(v)"
   ]
  },
  {
   "cell_type": "code",
   "execution_count": 29,
   "id": "73b06877",
   "metadata": {},
   "outputs": [
    {
     "data": {
      "text/plain": [
       "'23'"
      ]
     },
     "execution_count": 29,
     "metadata": {},
     "output_type": "execute_result"
    }
   ],
   "source": [
    "d.get('age')#key"
   ]
  },
  {
   "cell_type": "code",
   "execution_count": 36,
   "id": "fdbf6e27",
   "metadata": {},
   "outputs": [],
   "source": [
    "d.update([('address1','#05, Hosalli'),('address2','Sirsi')])#it is passed as key value pair"
   ]
  },
  {
   "cell_type": "code",
   "execution_count": 35,
   "id": "768075bf",
   "metadata": {},
   "outputs": [
    {
     "data": {
      "text/plain": [
       "{'name': 'Prasanna',\n",
       " 'age': '23',\n",
       " 'Education': 'B.E',\n",
       " 'address1': '#05, Hosalli',\n",
       " 'address2': 'Sirsi'}"
      ]
     },
     "execution_count": 35,
     "metadata": {},
     "output_type": "execute_result"
    }
   ],
   "source": [
    "d"
   ]
  },
  {
   "cell_type": "code",
   "execution_count": null,
   "id": "91100750",
   "metadata": {},
   "outputs": [],
   "source": []
  }
 ],
 "metadata": {
  "kernelspec": {
   "display_name": "Python 3 (ipykernel)",
   "language": "python",
   "name": "python3"
  },
  "language_info": {
   "codemirror_mode": {
    "name": "ipython",
    "version": 3
   },
   "file_extension": ".py",
   "mimetype": "text/x-python",
   "name": "python",
   "nbconvert_exporter": "python",
   "pygments_lexer": "ipython3",
   "version": "3.9.7"
  }
 },
 "nbformat": 4,
 "nbformat_minor": 5
}
