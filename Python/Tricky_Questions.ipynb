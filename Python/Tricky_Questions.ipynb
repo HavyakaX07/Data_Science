{
 "cells": [
  {
   "cell_type": "code",
   "execution_count": 8,
   "id": "49c06324",
   "metadata": {},
   "outputs": [
    {
     "data": {
      "text/plain": [
       "datetime.time(15, 6, 45, 428032)"
      ]
     },
     "execution_count": 8,
     "metadata": {},
     "output_type": "execute_result"
    }
   ],
   "source": [
    "#Get date form your system\n",
    "import datetime as dt\n",
    "n=dt.datetime.now().time()#change that to date for fate\n",
    "n"
   ]
  },
  {
   "cell_type": "code",
   "execution_count": 10,
   "id": "f5327333",
   "metadata": {},
   "outputs": [
    {
     "data": {
      "text/plain": [
       "datetime.date(2022, 6, 9)"
      ]
     },
     "execution_count": 10,
     "metadata": {},
     "output_type": "execute_result"
    }
   ],
   "source": [
    "dt.date.today()"
   ]
  },
  {
   "cell_type": "markdown",
   "id": "ad403089",
   "metadata": {},
   "source": [
    "### Write a mail to your find!!!"
   ]
  },
  {
   "cell_type": "code",
   "execution_count": 24,
   "id": "2dc549bb",
   "metadata": {},
   "outputs": [],
   "source": [
    "def send_email(from_,to,message):\n",
    "    #In-order to send a mail we need smtp module\n",
    "    import smtplib as sm\n",
    "    \n",
    "    #After that make connection\n",
    "    c=sm.SMTP('smtp.gmail.com',587)\n",
    "    \n",
    "    #Then in order to encode your message add security layer tls(transport layer security)\n",
    "    c.starttls()\n",
    "    \n",
    "    #Then login to your mail id\n",
    "    c.login(from_,'****')#password\n",
    "    \n",
    "    c.sendmail(from_,to,message)\n",
    "    \n",
    "    c.quit()  "
   ]
  },
  {
   "cell_type": "code",
   "execution_count": 25,
   "id": "b66d7316",
   "metadata": {},
   "outputs": [],
   "source": [
    "#call this function to send mail with appropriate param"
   ]
  },
  {
   "cell_type": "markdown",
   "id": "b7a8d187",
   "metadata": {},
   "source": [
    "## Setting alarm in my system"
   ]
  },
  {
   "cell_type": "code",
   "execution_count": 57,
   "id": "b3dd609c",
   "metadata": {},
   "outputs": [
    {
     "name": "stdout",
     "output_type": "stream",
     "text": [
      "Requirement already satisfied: playsound in c:\\users\\p.a.hegde\\anaconda3\\lib\\site-packages (1.3.0)\n"
     ]
    }
   ],
   "source": [
    "!pip install playsound"
   ]
  },
  {
   "cell_type": "code",
   "execution_count": 56,
   "id": "5f67f36a",
   "metadata": {},
   "outputs": [],
   "source": [
    "import time\n",
    "import os\n",
    "import playsound as pls"
   ]
  },
  {
   "cell_type": "code",
   "execution_count": 64,
   "id": "d56f935f",
   "metadata": {},
   "outputs": [
    {
     "name": "stdout",
     "output_type": "stream",
     "text": [
      "Alarm done!!!\n"
     ]
    }
   ],
   "source": [
    "setalarm='18:31'\n",
    "time.asctime()[11:16] #give only time\n",
    "if time.asctime()[11:16] == setalarm:\n",
    "    soundpath=os.path.abspath('alarm.mp3')\n",
    "    pls.playsound(soundpath)\n",
    "    print('Alarm done!!!')"
   ]
  },
  {
   "cell_type": "markdown",
   "id": "6ef092a6",
   "metadata": {},
   "source": [
    "## Print you host name and it's IP"
   ]
  },
  {
   "cell_type": "code",
   "execution_count": 59,
   "id": "663aeecf",
   "metadata": {},
   "outputs": [],
   "source": [
    "#For this import socket\n",
    "import socket"
   ]
  },
  {
   "cell_type": "code",
   "execution_count": 66,
   "id": "cce1c621",
   "metadata": {},
   "outputs": [
    {
     "name": "stdout",
     "output_type": "stream",
     "text": [
      "Host name is  BDC3-LX-JDFF2B3\n",
      "Ip is  192.168.1.36\n"
     ]
    }
   ],
   "source": [
    "host=socket.gethostname()\n",
    "ip=socket.gethostbyname(host)\n",
    "print('Host name is ',host)\n",
    "print('Ip is ',ip)"
   ]
  },
  {
   "cell_type": "markdown",
   "id": "1e617d01",
   "metadata": {},
   "source": [
    "## What are all installed in you system"
   ]
  },
  {
   "cell_type": "code",
   "execution_count": 67,
   "id": "425717c0",
   "metadata": {},
   "outputs": [
    {
     "name": "stdout",
     "output_type": "stream",
     "text": [
      "Collecting winapps\n",
      "  Downloading winapps-0.2.0-py3-none-any.whl (9.1 kB)\n",
      "Collecting plumbum<2.0,>=1.6\n",
      "  Downloading plumbum-1.7.2-py2.py3-none-any.whl (117 kB)\n",
      "Requirement already satisfied: pywin32 in c:\\users\\p.a.hegde\\anaconda3\\lib\\site-packages (from plumbum<2.0,>=1.6->winapps) (228)\n",
      "Installing collected packages: plumbum, winapps\n",
      "Successfully installed plumbum-1.7.2 winapps-0.2.0\n"
     ]
    }
   ],
   "source": [
    "!pip install winapps"
   ]
  },
  {
   "cell_type": "code",
   "execution_count": 68,
   "id": "0212ba1e",
   "metadata": {},
   "outputs": [],
   "source": [
    "import winapps"
   ]
  },
  {
   "cell_type": "code",
   "execution_count": 70,
   "id": "fbd421eb",
   "metadata": {},
   "outputs": [
    {
     "data": {
      "text/plain": [
       "[InstalledApplication(name='Microsoft 365 Apps for enterprise - en-us', version='16.0.14326.20962', install_date=None, install_location=WindowsPath('C:/Program Files/Microsoft Office'), install_source=None, modify_path='\"C:\\\\Program Files\\\\Common Files\\\\Microsoft Shared\\\\ClickToRun\\\\OfficeClickToRun.exe\" scenario=repair platform=x64 culture=en-us', publisher='Microsoft Corporation', uninstall_string='\"C:\\\\Program Files\\\\Common Files\\\\Microsoft Shared\\\\ClickToRun\\\\OfficeClickToRun.exe\" scenario=install scenariosubtype=ARP sourcetype=None productstoremove=O365ProPlusRetail.16_en-us_x-none culture=en-us version.16=16.0'),\n",
       " InstalledApplication(name='Pulse Secure Setup Client 64-bit Activex Control', version='3.1.1.1', install_date=None, install_location=None, install_source=None, modify_path=None, publisher='Pulse Secure, LLC', uninstall_string='C:\\\\WINDOWS\\\\Downloaded Program Files\\\\PulseSetupClientCtrlUninstaller64.exe'),\n",
       " InstalledApplication(name='FORCEPOINT ONE ENDPOINT', version='22.01.5526', install_date=datetime.date(2022, 4, 26), install_location=WindowsPath('C:/Program Files/Websense/Websense Endpoint'), install_source=WindowsPath('C:/WINDOWS/Temp/WebsenseEndpoint'), modify_path='MsiExec.exe /X{02839036-5111-4CC2-89E9-D82850E4FFDF}', publisher='Forcepoint LLC', uninstall_string='MsiExec.exe /X{02839036-5111-4CC2-89E9-D82850E4FFDF}'),\n",
       " InstalledApplication(name='Windows Firewall Configuration Provider', version='1.2.3412.0', install_date=datetime.date(2021, 10, 22), install_location='', install_source=WindowsPath('C:/Windows/ccmsetup'), modify_path='MsiExec.exe /X{109A5A16-E09E-4B82-A784-D1780F1190D6}', publisher='Microsoft Corporation', uninstall_string='MsiExec.exe /X{109A5A16-E09E-4B82-A784-D1780F1190D6}'),\n",
       " InstalledApplication(name='START_Tool', version='1.1', install_date=datetime.date(2022, 5, 5), install_location='', install_source=WindowsPath('C:/Windows/ccmcache/a3'), modify_path='MsiExec.exe /I{1C0190EF-01D0-421E-AAEE-626711581D64}', publisher='Accenture', uninstall_string='MsiExec.exe /I{1C0190EF-01D0-421E-AAEE-626711581D64}'),\n",
       " InstalledApplication(name='Java 8 Update 321 (64-bit)', version='8.0.3210.7', install_date=datetime.date(2022, 1, 22), install_location=WindowsPath('C:/Program Files/Java/jre1.8.0_321'), install_source=WindowsPath('C:/Users/p.a.hegde/AppData/LocalLow/Oracle/Java/jre1.8.0_321_x64'), modify_path='MsiExec.exe /X{26A24AE4-039D-4CA4-87B4-2F64180321F0}', publisher='Oracle Corporation', uninstall_string='MsiExec.exe /X{26A24AE4-039D-4CA4-87B4-2F64180321F0}'),\n",
       " InstalledApplication(name='ACN Hello for Business Utility', version='2.0.0.1', install_date=datetime.date(2021, 9, 6), install_location=WindowsPath('C:/Program Files/Accenture/ACN Hello for Business Utility'), install_source=WindowsPath('C:/Windows/ccmcache/d'), modify_path='MsiExec.exe /I{28D13193-14BE-463B-A734-641D686037E2}', publisher='Accenture', uninstall_string='MsiExec.exe /I{28D13193-14BE-463B-A734-641D686037E2}'),\n",
       " InstalledApplication(name='Node.js', version='14.18.1', install_date=datetime.date(2021, 10, 20), install_location='', install_source=WindowsPath('C:/Users/p.a.hegde/Downloads'), modify_path='MsiExec.exe /I{36F3A69E-6E73-4879-B97F-9E586EC5741C}', publisher='Node.js Foundation', uninstall_string='MsiExec.exe /I{36F3A69E-6E73-4879-B97F-9E586EC5741C}'),\n",
       " InstalledApplication(name='ISA SMAART Hub', version='1.1.0', install_date=datetime.date(2022, 3, 18), install_location='', install_source=WindowsPath('C:/Users/p.a.hegde/AppData'), modify_path='MsiExec.exe /I{5B17BCDC-B9AF-47BD-852F-321F3660B3AB}', publisher='Accenture', uninstall_string='MsiExec.exe /I{5B17BCDC-B9AF-47BD-852F-321F3660B3AB}'),\n",
       " InstalledApplication(name='Java(TM) SE Development Kit 18.0.1 (64-bit)', version='18.0.1.0', install_date=datetime.date(2022, 4, 21), install_location=WindowsPath('C:/Program Files/Java/jdk-18.0.1'), install_source=WindowsPath('C:/Users/p.a.hegde/AppData/LocalLow/Oracle/Java/jdk18.0.1_x64'), modify_path='MsiExec.exe /X{5E3E6691-FEFA-5764-A8A5-822220A57F16}', publisher='Oracle Corporation', uninstall_string='MsiExec.exe /X{5E3E6691-FEFA-5764-A8A5-822220A57F16}'),\n",
       " InstalledApplication(name='Java SE Development Kit 8 Update 241 (64-bit)', version='8.0.2410.7', install_date=datetime.date(2021, 9, 14), install_location=WindowsPath('C:/Program Files/Java/jdk1.8.0_241'), install_source=WindowsPath('C:/Users/p.a.hegde/AppData/LocalLow/Oracle/Java/jdk1.8.0_241_x64'), modify_path='MsiExec.exe /X{64A3A4F4-B792-11D6-A78A-00B0D0180241}', publisher='Oracle Corporation', uninstall_string='MsiExec.exe /X{64A3A4F4-B792-11D6-A78A-00B0D0180241}'),\n",
       " InstalledApplication(name='Kollective Desktop Agent', version='11.1.0.63', install_date=datetime.date(2022, 2, 4), install_location='', install_source=WindowsPath('C:/WINDOWS/Temp/Kollective'), modify_path='MsiExec.exe /X{750DC31B-9356-4554-9E66-AC2B7C6A46F7}', publisher='Kollective Technology, Inc', uninstall_string='MsiExec.exe /X{750DC31B-9356-4554-9E66-AC2B7C6A46F7}'),\n",
       " InstalledApplication(name='Nexthink Collector', version='22.3.03005', install_date=datetime.date(2022, 5, 10), install_location='', install_source=WindowsPath('C:/Windows/Temp/nxtcoordinator-dXUjSB'), modify_path='MsiExec.exe /X{7F147DB9-E5D5-4EB4-A702-9ED8BA77564C}', publisher='Nexthink S.A.', uninstall_string='MsiExec.exe /X{7F147DB9-E5D5-4EB4-A702-9ED8BA77564C}'),\n",
       " InstalledApplication(name='MySQL Connector C++ 1.1.6', version='1.1.6', install_date=datetime.date(2021, 10, 5), install_location=WindowsPath('C:/Program Files/MySQL/Connector.C++ 1.1'), install_source=WindowsPath('C:/ProgramData/MySQL/MySQL Installer for Windows/Product Cache'), modify_path='MsiExec.exe /I{80EE5F65-5553-47A1-B6A9-8BF3211D21A3}', publisher='Oracle and/or its affiliates', uninstall_string='MsiExec.exe /I{80EE5F65-5553-47A1-B6A9-8BF3211D21A3}'),\n",
       " InstalledApplication(name='MongoDB 5.0.3 2008R2Plus SSL (64 bit)', version='5.0.3', install_date=datetime.date(2021, 9, 27), install_location='', install_source=WindowsPath('c:/users/p.a.hegde/downloads'), modify_path='MsiExec.exe /I{860DC0D8-063E-47DF-A788-ADEFC3FEA170}', publisher='MongoDB Inc.', uninstall_string='MsiExec.exe /I{860DC0D8-063E-47DF-A788-ADEFC3FEA170}'),\n",
       " InstalledApplication(name='Microsoft Silverlight', version='5.1.50918.0', install_date=datetime.date(2021, 8, 2), install_location=WindowsPath('c:/Program Files/Microsoft Silverlight'), install_source=WindowsPath('c:/6ad18e16e71613e8578094'), modify_path='MsiExec.exe /X{89F4137D-6C26-4A84-BDB8-2E5A4BB71E00}', publisher='Microsoft Corporation', uninstall_string='MsiExec.exe /X{89F4137D-6C26-4A84-BDB8-2E5A4BB71E00}'),\n",
       " InstalledApplication(name='MySQL Workbench 6.3 CE', version='6.3.5', install_date=datetime.date(2021, 10, 5), install_location=WindowsPath('C:/Program Files/MySQL/MySQL Workbench 6.3 CE'), install_source=WindowsPath('C:/ProgramData/MySQL/MySQL Installer for Windows/Product Cache'), modify_path='MsiExec.exe /I{8E6D8BF8-828A-4F7B-A332-F7CEB8CB75AA}', publisher='Oracle Corporation', uninstall_string='MsiExec.exe /I{8E6D8BF8-828A-4F7B-A332-F7CEB8CB75AA}'),\n",
       " InstalledApplication(name='Dell Command | Monitor', version='10.5.1.114', install_date=datetime.date(2021, 10, 26), install_location='', install_source=WindowsPath('C:/ProgramData/dell/drivers/cc26ca8a-ec06-499b-8f5c-fd164c2f7620'), modify_path='MsiExec.exe /I{91E79414-DB41-4030-9A13-E133EE30F1D5}', publisher='Dell Inc.', uninstall_string='MsiExec.exe /I{91E79414-DB41-4030-9A13-E133EE30F1D5}'),\n",
       " InstalledApplication(name='MySQL Connector/ODBC 5.3', version='5.3.4', install_date=datetime.date(2021, 10, 5), install_location=WindowsPath('C:/Program Files/MySQL/Connector.ODBC 5.3'), install_source=WindowsPath('C:/ProgramData/MySQL/MySQL Installer for Windows/Product Cache'), modify_path='MsiExec.exe /I{A1991404-2634-47E1-BC45-8F3B5014B1D1}', publisher='Oracle Corporation', uninstall_string='MsiExec.exe /I{A1991404-2634-47E1-BC45-8F3B5014B1D1}'),\n",
       " InstalledApplication(name='MySQL Connector/C 6.1', version='6.1.6', install_date=datetime.date(2021, 10, 5), install_location=WindowsPath('C:/Program Files/MySQL/MySQL Connector.C 6.1'), install_source=WindowsPath('C:/ProgramData/MySQL/MySQL Installer for Windows/Product Cache'), modify_path='MsiExec.exe /I{ABC3A516-54E3-414B-B501-762E7FB2F9D5}', publisher='Oracle Corporation', uninstall_string='MsiExec.exe /I{ABC3A516-54E3-414B-B501-762E7FB2F9D5}'),\n",
       " InstalledApplication(name='Microsoft SQL Server 2012 Native Client ', version='11.4.7001.0', install_date=datetime.date(2022, 6, 1), install_location='', install_source=WindowsPath('C:/Users/p.a.hegde/Downloads'), modify_path='MsiExec.exe /I{B9274744-8BAE-4874-8E59-2610919CD419}', publisher='Microsoft Corporation', uninstall_string='MsiExec.exe /I{B9274744-8BAE-4874-8E59-2610919CD419}'),\n",
       " InstalledApplication(name='Google Chrome', version='102.0.5005.63', install_date=datetime.date(2021, 8, 2), install_location='', install_source=WindowsPath('C:/Users/Administrator/AppData/Local/Temp/Google Chrome64bit 84.0.4147.89'), modify_path='MsiExec.exe /X{C208811C-385C-3C16-BE72-20618CB11F29}', publisher='Google LLC', uninstall_string='MsiExec.exe /X{C208811C-385C-3C16-BE72-20618CB11F29}'),\n",
       " InstalledApplication(name='Privilege Management for Windows (x64) 21.6.153.0', version='21.6.153.0', install_date=datetime.date(2022, 2, 1), install_location=WindowsPath('C:/Program Files/Avecto/Privilege Guard Client'), install_source=WindowsPath('C:/Windows/ccmcache/6m'), modify_path='MsiExec.exe /X{d3034e20-a559-409a-a4d8-43cbe955ab03}', publisher='BeyondTrust Corporation', uninstall_string='MsiExec.exe /X{d3034e20-a559-409a-a4d8-43cbe955ab03}'),\n",
       " InstalledApplication(name='MySQL Server 5.5', version='5.5.47', install_date=datetime.date(2021, 10, 5), install_location=WindowsPath('C:/Program Files/MySQL/MySQL Server 5.5'), install_source=WindowsPath('C:/ProgramData/MySQL/MySQL Installer for Windows/Product Cache'), modify_path='MsiExec.exe /I{DF08CBAA-78E9-49F8-AAF2-75DD96D6F07F}', publisher='Oracle Corporation', uninstall_string='MsiExec.exe /I{DF08CBAA-78E9-49F8-AAF2-75DD96D6F07F}'),\n",
       " InstalledApplication(name='Microsoft Visual Studio Code', version='1.66.2', install_date=datetime.date(2022, 4, 22), install_location=WindowsPath('C:/Program Files/Microsoft VS Code'), install_source=None, modify_path=None, publisher='Microsoft Corporation', uninstall_string='\"C:\\\\Program Files\\\\Microsoft VS Code\\\\unins000.exe\"'),\n",
       " InstalledApplication(name='AgentInstall-x64_15_8', version='15.8.00100.01075', install_date=datetime.date(2021, 11, 29), install_location=WindowsPath('C:/Program Files/Manufacturer/Endpoint Agent'), install_source=WindowsPath('C:/WINDOWS/Temp/dlp15.8_MP1_win64'), modify_path='MsiExec.exe /X{EA5616A9-C77C-4454-882E-2C04BA971E2E}', publisher='Symantec Corp.', uninstall_string='MsiExec.exe /X{EA5616A9-C77C-4454-882E-2C04BA971E2E}'),\n",
       " InstalledApplication(name='Local Administrator Password Solution', version='6.2.0.0', install_date=datetime.date(2021, 8, 2), install_location='', install_source=WindowsPath('C:/APP_Jun_2021/Deploy/Applications/Microsoft LAPS x64 6.2.0.0'), modify_path='MsiExec.exe /I{EA8CB806-C109-4700-96B4-F1F268E5036C}', publisher='Microsoft Corporation', uninstall_string='MsiExec.exe /I{EA8CB806-C109-4700-96B4-F1F268E5036C}'),\n",
       " InstalledApplication(name='Erlang OTP 24.0 (12.0)', version=None, install_date=None, install_location=None, install_source=None, modify_path=None, publisher=None, uninstall_string='C:\\\\Program Files\\\\erl-24.0\\\\Uninstall.exe'),\n",
       " InstalledApplication(name='Microsoft Edge', version='102.0.1245.33', install_date=datetime.date(2022, 6, 5), install_location=WindowsPath('C:/Program Files (x86)/Microsoft/Edge/Application'), install_source=None, modify_path='\"C:\\\\Program Files (x86)\\\\Microsoft\\\\EdgeUpdate\\\\MicrosoftEdgeUpdate.exe\" /install appguid={56EB18F8-B008-4CBD-B6D2-8C97FE7E9062}&appname=Microsoft%20Edge&needsadmin=true&repairtype=windowsonlinerepair /installsource windows', publisher='Microsoft Corporation', uninstall_string='\"C:\\\\Program Files (x86)\\\\Microsoft\\\\Edge\\\\Application\\\\102.0.1245.33\\\\Installer\\\\setup.exe\" --uninstall --msedge --channel=stable --system-level --verbose-logging'),\n",
       " InstalledApplication(name='Microsoft Edge Update', version='1.3.161.35', install_date=None, install_location=None, install_source=None, modify_path=None, publisher=None, uninstall_string=None),\n",
       " InstalledApplication(name='Microsoft Edge WebView2 Runtime', version='102.0.1245.33', install_date=datetime.date(2022, 6, 4), install_location=WindowsPath('C:/Program Files (x86)/Microsoft/EdgeWebView/Application'), install_source=None, modify_path='\"C:\\\\Program Files (x86)\\\\Microsoft\\\\EdgeUpdate\\\\MicrosoftEdgeUpdate.exe\" /install appguid={F3017226-FE2A-4295-8BDF-00C3A9A7E4C5}&appname=Microsoft%20Edge%20WebView&needsadmin=true&repairtype=windowsonlinerepair /installsource otherinstallcmd', publisher='Microsoft Corporation', uninstall_string='\"C:\\\\Program Files (x86)\\\\Microsoft\\\\EdgeWebView\\\\Application\\\\102.0.1245.33\\\\Installer\\\\setup.exe\" --uninstall --msedgewebview --system-level --verbose-logging'),\n",
       " InstalledApplication(name='Notepad++ (32-bit x86)', version='8.2.1', install_date=None, install_location=None, install_source=None, modify_path=None, publisher='Notepad++ Team', uninstall_string='\"C:\\\\Program Files (x86)\\\\Notepad++\\\\uninstall.exe\"'),\n",
       " InstalledApplication(name='Pulse Secure 9.1', version='9.1.11723', install_date=None, install_location=None, install_source=None, modify_path=None, publisher='Pulse Secure, LLC', uninstall_string='C:\\\\Program Files (x86)\\\\Pulse Secure\\\\Pulse\\\\PulseUninstall.exe'),\n",
       " InstalledApplication(name='Pulse Secure Setup Client Activex Control', version='3.1.1.1', install_date=None, install_location=None, install_source=None, modify_path=None, publisher='Pulse Secure, LLC', uninstall_string='C:\\\\WINDOWS\\\\Downloaded Program Files\\\\PulseSetupClientCtrlUninstaller.exe'),\n",
       " InstalledApplication(name='RabbitMQ Server 3.9.7', version='3.9.7', install_date=None, install_location=None, install_source=None, modify_path=None, publisher='VMware, Inc.', uninstall_string='C:\\\\Program Files\\\\RabbitMQ Server\\\\uninstall.exe'),\n",
       " InstalledApplication(name='Robo 3T 1.4.2', version='1.4.2', install_date=None, install_location=None, install_source=None, modify_path=None, publisher='3T Software Labs Ltd', uninstall_string='C:\\\\Program Files\\\\Robo 3T 1.4.2\\\\Uninstall.exe'),\n",
       " InstalledApplication(name='MySQL Connector J', version='5.1.37', install_date=datetime.date(2021, 10, 5), install_location=WindowsPath('C:/Program Files (x86)/MySQL/Connector.J 5.1'), install_source=WindowsPath('C:/ProgramData/MySQL/MySQL Installer for Windows/Product Cache'), modify_path='MsiExec.exe /I{08BE0787-D0CE-4240-93EF-D73DA099A285}', publisher='Oracle Corporation', uninstall_string='MsiExec.exe /I{08BE0787-D0CE-4240-93EF-D73DA099A285}'),\n",
       " InstalledApplication(name='Microsoft Visual C++ 2015-2019 Redistributable (x86) - 14.28.29914', version='14.28.29914.0', install_date=None, install_location=None, install_source=None, modify_path='\"C:\\\\ProgramData\\\\Package Cache\\\\{1b5476d9-ab8e-4b0d-b004-059a1bd5568b}\\\\VC_redist.x86.exe\" /modify', publisher='Microsoft Corporation', uninstall_string='\"C:\\\\ProgramData\\\\Package Cache\\\\{1b5476d9-ab8e-4b0d-b004-059a1bd5568b}\\\\VC_redist.x86.exe\"  /uninstall'),\n",
       " InstalledApplication(name='Microsoft Azure Information Protection', version='2.13.49.0', install_date=None, install_location=None, install_source=None, modify_path=None, publisher='Microsoft Corporation', uninstall_string='\"C:\\\\ProgramData\\\\Package Cache\\\\{231cba1f-1f89-4827-b80e-93ddc8856b3e}\\\\AzInfoProtection.exe\"  /uninstall'),\n",
       " InstalledApplication(name='Protect myTech', version='2.21.0517.01', install_date=datetime.date(2021, 9, 6), install_location=WindowsPath('C:/ProgramData/Accenture/ProtectMyTech'), install_source=None, modify_path=None, publisher='Accenture', uninstall_string='\"C:\\\\ProgramData\\\\Accenture\\\\ProtectMyTech\\\\unins000.exe\"'),\n",
       " InstalledApplication(name='Pulse Secure Installer Service', version='9.1.12319', install_date=datetime.date(2021, 8, 2), install_location='', install_source=WindowsPath('C:/Windows/Temp/PulseSecure_9.1R11.4_x64'), modify_path='MsiExec.exe /X{3ECA9B1D-6D48-44E7-B7EF-06D4948B1954}', publisher='Pulse Secure, LLC', uninstall_string='MsiExec.exe /X{3ECA9B1D-6D48-44E7-B7EF-06D4948B1954}'),\n",
       " InstalledApplication(name='Microsoft Visual C++ 2015-2019 Redistributable (x64) - 14.28.29914', version='14.28.29914.0', install_date=None, install_location=None, install_source=None, modify_path='\"C:\\\\ProgramData\\\\Package Cache\\\\{43d1ce82-6f55-4860-a938-20e5deb28b98}\\\\VC_redist.x64.exe\" /modify', publisher='Microsoft Corporation', uninstall_string='\"C:\\\\ProgramData\\\\Package Cache\\\\{43d1ce82-6f55-4860-a938-20e5deb28b98}\\\\VC_redist.x64.exe\"  /uninstall'),\n",
       " InstalledApplication(name='Accenture PowerPoint And Word Templates 2020', version='4.0.1', install_date=datetime.date(2021, 8, 2), install_location=WindowsPath('C:/ProgramData/Microsoft/Office/Accenture Templates/PowerPoint'), install_source=WindowsPath('C:/APP_Jun_2021/Deploy/Applications/Accenture PPT-Word and Font Package'), modify_path='MsiExec.exe /I{5954C984-4AF8-4358-813C-C8A019611E65}', publisher='Accenture', uninstall_string='MsiExec.exe /I{5954C984-4AF8-4358-813C-C8A019611E65}'),\n",
       " InstalledApplication(name='Microsoft Visual C++ 2013 Redistributable (x86) - 12.0.40660', version='12.0.40660.0', install_date=None, install_location=None, install_source=None, modify_path='\"C:\\\\ProgramData\\\\Package Cache\\\\{61087a79-ac85-455c-934d-1fa22cc64f36}\\\\vcredist_x86.exe\" /modify', publisher='Microsoft Corporation', uninstall_string='\"C:\\\\ProgramData\\\\Package Cache\\\\{61087a79-ac85-455c-934d-1fa22cc64f36}\\\\vcredist_x86.exe\"  /uninstall'),\n",
       " InstalledApplication(name='Teams Machine-Wide Installer', version='1.3.0.362', install_date=datetime.date(2020, 2, 18), install_location='', install_source=WindowsPath('C:/Program Files/Microsoft Office/root/integration/Addons'), modify_path='MsiExec.exe /I{731F6BAA-A986-45A4-8936-7C3AAAAA760B}', publisher='Microsoft Corporation', uninstall_string='MsiExec.exe /I{731F6BAA-A986-45A4-8936-7C3AAAAA760B}'),\n",
       " InstalledApplication(name='Accenture Graphik Font 2017', version='1.0.0', install_date=datetime.date(2021, 8, 2), install_location=WindowsPath('C:/Program Files (x86)/Accenture/My Product Name'), install_source=WindowsPath('C:/APP_Jun_2021/Deploy/Applications/Accenture PPT-Word and Font Package'), modify_path='MsiExec.exe /I{774F34D4-DAFC-4C3F-B5BC-4457DFCFC706}', publisher='Accenture', uninstall_string='MsiExec.exe /I{774F34D4-DAFC-4C3F-B5BC-4457DFCFC706}'),\n",
       " InstalledApplication(name='Cofense Reporter', version='5.0.2', install_date=datetime.date(2021, 8, 2), install_location='', install_source=WindowsPath('C:/APP_Jun_2021/Deploy/Applications/Cofense Reporter'), modify_path='MsiExec.exe /X{7FA3B680-36A4-431C-9175-063B63774234}', publisher='Cofense Inc.', uninstall_string='MsiExec.exe /X{7FA3B680-36A4-431C-9175-063B63774234}'),\n",
       " InstalledApplication(name='Accenture CA Root Certificates', version='1.1.1', install_date=datetime.date(2021, 8, 2), install_location='', install_source=WindowsPath('C:/APP_Jun_2021/Deploy/Applications/Accenture Machine Root Certificates'), modify_path='MsiExec.exe /I{9389301B-2934-4171-B1E1-EE4A49672873}', publisher='Accenture', uninstall_string='MsiExec.exe /I{9389301B-2934-4171-B1E1-EE4A49672873}'),\n",
       " InstalledApplication(name='Adobe Acrobat Reader DC', version='22.001.20117', install_date=datetime.date(2022, 4, 18), install_location=WindowsPath('C:/Program Files (x86)/Adobe/Acrobat Reader DC'), install_source=WindowsPath('C:/APP_Jun_2021/Deploy/Applications/Adobe Reader DC'), modify_path='MsiExec.exe /I{AC76BA86-7AD7-1033-7B44-AC0F074E4100}', publisher='Adobe Systems Incorporated', uninstall_string='MsiExec.exe /I{AC76BA86-7AD7-1033-7B44-AC0F074E4100}'),\n",
       " InstalledApplication(name='Extended Asian Language font pack for Adobe Acrobat Reader DC', version='21.001.20135', install_date=datetime.date(2021, 8, 2), install_location=WindowsPath('C:/Program Files (x86)/Adobe/Acrobat Reader DC'), install_source=WindowsPath('C:/APP_Jun_2021/Deploy/Applications/Adobe Reader DC Font Pack 1900820071'), modify_path='MsiExec.exe /I{AC76BA86-7AD7-2530-0000-AC15014EA700}', publisher='Adobe Systems Incorporated', uninstall_string='MsiExec.exe /I{AC76BA86-7AD7-2530-0000-AC15014EA700}'),\n",
       " InstalledApplication(name='Mettl Secure Browser', version='12.0.1.0', install_date=None, install_location=None, install_source=None, modify_path='\"C:\\\\ProgramData\\\\Package Cache\\\\{b5b90fa6-9d2d-4d9b-9f24-6252753df9e9}\\\\MettlSecureBrowserInstaller.exe\" /modify', publisher='Mettl', uninstall_string='\"C:\\\\ProgramData\\\\Package Cache\\\\{b5b90fa6-9d2d-4d9b-9f24-6252753df9e9}\\\\MettlSecureBrowserInstaller.exe\"  /uninstall'),\n",
       " InstalledApplication(name='Microsoft Search in Bing', version='2.0.2', install_date=datetime.date(2021, 8, 25), install_location=WindowsPath('C:/Program Files (x86)/Microsoft/Microsoft Search in Bing'), install_source=WindowsPath('C:/ProgramData/Microsoft/DefaultPackMSI'), modify_path='MsiExec.exe /I{C17F6DEF-D34C-4B75-97E1-D81062408B4A}', publisher='Microsoft Corporation', uninstall_string='MsiExec.exe /I{C17F6DEF-D34C-4B75-97E1-D81062408B4A}'),\n",
       " InstalledApplication(name='MySQL Fabric 1.5.6 & MySQL Utilities 1.5.6', version='1.5.6', install_date=datetime.date(2021, 10, 5), install_location=WindowsPath('C:/Program Files/MySQL/MySQL Fabric 1.5 & MySQL Utilities 1.5'), install_source=WindowsPath('C:/ProgramData/MySQL/MySQL Installer for Windows/Product Cache'), modify_path='MsiExec.exe /X{C914EB85-F0E6-4150-9FA0-99B716A15EAF}', publisher='Oracle Corporation', uninstall_string='MsiExec.exe /X{C914EB85-F0E6-4150-9FA0-99B716A15EAF}'),\n",
       " InstalledApplication(name='MySQL Notifier 1.1.6', version='1.1.6', install_date=datetime.date(2021, 10, 5), install_location=WindowsPath('C:/Program Files (x86)/MySQL/MySQL Notifier 1.1'), install_source=WindowsPath('C:/ProgramData/MySQL/MySQL Installer for Windows/Product Cache'), modify_path='MsiExec.exe /X{CB76A6E9-B184-461D-A8BE-7D0D73199545}', publisher='Oracle', uninstall_string='MsiExec.exe /X{CB76A6E9-B184-461D-A8BE-7D0D73199545}'),\n",
       " InstalledApplication(name='MySQL Examples and Samples 5.5', version='5.5.47', install_date=datetime.date(2021, 10, 5), install_location=WindowsPath('C:/Program Files (x86)/MySQL/Samples and Examples 5.5'), install_source=WindowsPath('C:/ProgramData/MySQL/MySQL Installer for Windows/Product Cache'), modify_path='MsiExec.exe /I{CB83F0A3-A53B-4316-98EE-1674B35BB29D}', publisher='Oracle Corporation', uninstall_string='MsiExec.exe /I{CB83F0A3-A53B-4316-98EE-1674B35BB29D}'),\n",
       " InstalledApplication(name='MySQL Documents 5.5', version='5.5.47', install_date=datetime.date(2021, 10, 5), install_location=WindowsPath('C:/Program Files (x86)/MySQL/MySQL Documentation 5.5'), install_source=WindowsPath('C:/ProgramData/MySQL/MySQL Installer for Windows/Product Cache'), modify_path='MsiExec.exe /I{CE97CEDA-B6B3-40F9-A2DB-5F85701B405C}', publisher='Oracle Corporation', uninstall_string='MsiExec.exe /I{CE97CEDA-B6B3-40F9-A2DB-5F85701B405C}'),\n",
       " InstalledApplication(name='MySQL Connector Net 6.9.8', version='6.9.8', install_date=datetime.date(2021, 10, 5), install_location=WindowsPath('C:/Program Files (x86)/MySQL/Connector.NET 6.9'), install_source=WindowsPath('C:/ProgramData/MySQL/MySQL Installer for Windows/Product Cache'), modify_path='MsiExec.exe /I{D01DF7C8-6F2D-46BC-923B-418233EB1D14}', publisher='Oracle', uninstall_string='MsiExec.exe /I{D01DF7C8-6F2D-46BC-923B-418233EB1D14}'),\n",
       " InstalledApplication(name='Microsoft Visual C++ 2013 Redistributable (x64) - 12.0.40660', version='12.0.40660.0', install_date=None, install_location=None, install_source=None, modify_path='\"C:\\\\ProgramData\\\\Package Cache\\\\{ef6b00ec-13e1-4c25-9064-b2f383cb8412}\\\\vcredist_x64.exe\" /modify', publisher='Microsoft Corporation', uninstall_string='\"C:\\\\ProgramData\\\\Package Cache\\\\{ef6b00ec-13e1-4c25-9064-b2f383cb8412}\\\\vcredist_x64.exe\"  /uninstall'),\n",
       " InstalledApplication(name='Realtek Audio Driver', version='6.0.9257.1', install_date=datetime.date(2022, 4, 12), install_location=WindowsPath('C:/Program Files (x86)/Realtek/Audio/Drivers'), install_source=WindowsPath('C:/Windows/Temp/DellLatitude3410_Mar22/Audio/RealtekAudio'), modify_path='\"C:\\\\Program Files (x86)\\\\InstallShield Installation Information\\\\{F132AF7F-7BCA-4EDE-8A7C-958108FE7DBC}\\\\Setup.exe\" -runfromtemp ', publisher='Realtek Semiconductor Corp.', uninstall_string='\"C:\\\\Program Files (x86)\\\\InstallShield Installation Information\\\\{F132AF7F-7BCA-4EDE-8A7C-958108FE7DBC}\\\\Setup.exe\" -runfromtemp  -removeonly'),\n",
       " InstalledApplication(name='MySQL Installer - Community', version='1.4.13.0', install_date=datetime.date(2021, 10, 5), install_location='', install_source=WindowsPath('C:/Program Files'), modify_path='MsiExec.exe /I{F735976D-1E03-43C5-A914-9D50BC49D77B}', publisher='Oracle Corporation', uninstall_string='MsiExec.exe /I{F735976D-1E03-43C5-A914-9D50BC49D77B}'),\n",
       " InstalledApplication(name='Accenture SSL CA Certificates', version='1.0.0.0', install_date=datetime.date(2021, 8, 2), install_location='', install_source=WindowsPath('C:/APP_Jun_2021/Deploy/Applications/Accenture SSL Certificates'), modify_path='MsiExec.exe /X{FB0008C2-49FF-42EE-BCCF-4C721B956634}', publisher='Accenture', uninstall_string='MsiExec.exe /X{FB0008C2-49FF-42EE-BCCF-4C721B956634}')]"
      ]
     },
     "execution_count": 70,
     "metadata": {},
     "output_type": "execute_result"
    }
   ],
   "source": [
    "list(winapps.list_installed())#Gives generator"
   ]
  },
  {
   "cell_type": "markdown",
   "id": "db046476",
   "metadata": {},
   "source": [
    "## Convert Text to voice"
   ]
  },
  {
   "cell_type": "code",
   "execution_count": 71,
   "id": "0e0e2a6d",
   "metadata": {},
   "outputs": [
    {
     "name": "stdout",
     "output_type": "stream",
     "text": [
      "Collecting gtts\n",
      "  Downloading gTTS-2.2.4-py3-none-any.whl (26 kB)\n",
      "Requirement already satisfied: click in c:\\users\\p.a.hegde\\anaconda3\\lib\\site-packages (from gtts) (8.0.3)\n",
      "Requirement already satisfied: six in c:\\users\\p.a.hegde\\anaconda3\\lib\\site-packages (from gtts) (1.16.0)\n",
      "Requirement already satisfied: requests in c:\\users\\p.a.hegde\\anaconda3\\lib\\site-packages (from gtts) (2.26.0)\n",
      "Requirement already satisfied: colorama in c:\\users\\p.a.hegde\\anaconda3\\lib\\site-packages (from click->gtts) (0.4.4)\n",
      "Requirement already satisfied: idna<4,>=2.5 in c:\\users\\p.a.hegde\\anaconda3\\lib\\site-packages (from requests->gtts) (3.2)\n",
      "Requirement already satisfied: charset-normalizer~=2.0.0 in c:\\users\\p.a.hegde\\anaconda3\\lib\\site-packages (from requests->gtts) (2.0.4)\n",
      "Requirement already satisfied: certifi>=2017.4.17 in c:\\users\\p.a.hegde\\anaconda3\\lib\\site-packages (from requests->gtts) (2021.10.8)\n",
      "Requirement already satisfied: urllib3<1.27,>=1.21.1 in c:\\users\\p.a.hegde\\anaconda3\\lib\\site-packages (from requests->gtts) (1.26.7)\n",
      "Installing collected packages: gtts\n",
      "Successfully installed gtts-2.2.4\n"
     ]
    }
   ],
   "source": [
    "!pip install gtts"
   ]
  },
  {
   "cell_type": "code",
   "execution_count": 72,
   "id": "9bc05195",
   "metadata": {},
   "outputs": [],
   "source": [
    "import gtts\n",
    "def text_to_voice(text):\n",
    "    obj=gtts.gTTS(text)\n",
    "    obj.save('Text_to_voice.mp3')\n",
    "    pls.playsound('Text_to_voice.mp3')"
   ]
  },
  {
   "cell_type": "code",
   "execution_count": 94,
   "id": "daff59b3",
   "metadata": {},
   "outputs": [],
   "source": [
    "text_to_voice('Shiivaa')"
   ]
  },
  {
   "cell_type": "markdown",
   "id": "8bae2a01",
   "metadata": {},
   "source": [
    "## Read any image"
   ]
  },
  {
   "cell_type": "code",
   "execution_count": 95,
   "id": "f25281bc",
   "metadata": {},
   "outputs": [
    {
     "name": "stdout",
     "output_type": "stream",
     "text": [
      "Collecting opencv-python\n",
      "  Downloading opencv_python-4.6.0.66-cp36-abi3-win_amd64.whl (35.6 MB)\n",
      "Requirement already satisfied: numpy>=1.17.3 in c:\\users\\p.a.hegde\\anaconda3\\lib\\site-packages (from opencv-python) (1.20.3)\n",
      "Installing collected packages: opencv-python\n",
      "Successfully installed opencv-python-4.6.0.66\n"
     ]
    }
   ],
   "source": [
    "!pip install opencv-python"
   ]
  },
  {
   "cell_type": "code",
   "execution_count": 2,
   "id": "8c5025ec",
   "metadata": {},
   "outputs": [],
   "source": [
    "import cv2"
   ]
  },
  {
   "cell_type": "code",
   "execution_count": 4,
   "id": "059531e2",
   "metadata": {},
   "outputs": [],
   "source": [
    "a=cv2.imread('IMG1.png')\n",
    "cv2.imshow('mywindow',a)\n",
    "cv2.waitKey(5000)\n",
    "cv2.destroyWindow('mywindow')"
   ]
  },
  {
   "cell_type": "markdown",
   "id": "3e2420b4",
   "metadata": {},
   "source": [
    "## Shutting down you computer"
   ]
  },
  {
   "cell_type": "code",
   "execution_count": null,
   "id": "3c73a6dd",
   "metadata": {},
   "outputs": [],
   "source": [
    " #os.system(\"shutdown /s /t 1\") Rund this command"
   ]
  },
  {
   "cell_type": "markdown",
   "id": "0ff37234",
   "metadata": {},
   "source": [
    "## PDF appending"
   ]
  },
  {
   "cell_type": "code",
   "execution_count": null,
   "id": "dd7af683",
   "metadata": {},
   "outputs": [],
   "source": [
    "'''from PyPDF2 import PdfMerger\n",
    "\n",
    "pdfs = ['file1.pdf', 'file2.pdf', 'file3.pdf', 'file4.pdf']\n",
    "\n",
    "merger = PdfMerger()\n",
    "\n",
    "for pdf in pdfs:\n",
    "    merger.append(pdf)\n",
    "\n",
    "merger.write(\"result.pdf\")\n",
    "merger.close()'''"
   ]
  },
  {
   "cell_type": "markdown",
   "id": "7c208368",
   "metadata": {},
   "source": [
    "## Printin in some fashion A-Z"
   ]
  },
  {
   "cell_type": "code",
   "execution_count": 23,
   "id": "c0bbe7d9",
   "metadata": {},
   "outputs": [
    {
     "name": "stdout",
     "output_type": "stream",
     "text": [
      "A \r\n",
      "B H \r\n",
      "C I N \r\n",
      "D J O S \r\n",
      "E K P T W \r\n",
      "F L Q U X Z \r\n",
      "G M R V Y \r\n"
     ]
    }
   ],
   "source": [
    "n = 7\n",
    "i = 1\n",
    "while(i<=n):\n",
    "    k = i\n",
    "    j = 1\n",
    "    while(j<=i):\n",
    "        if(chr(64+k).isalnum()):\n",
    "            print(chr(64+k),end = \" \")\n",
    "        k = k + n - j\n",
    "        j = j + 1\n",
    "    print(\"\\r\")\n",
    "    i = i + 1"
   ]
  },
  {
   "cell_type": "code",
   "execution_count": null,
   "id": "1f45d8a4",
   "metadata": {},
   "outputs": [],
   "source": []
  },
  {
   "cell_type": "code",
   "execution_count": null,
   "id": "9b3e60b4",
   "metadata": {},
   "outputs": [],
   "source": []
  },
  {
   "cell_type": "code",
   "execution_count": null,
   "id": "9434bc43",
   "metadata": {},
   "outputs": [],
   "source": []
  },
  {
   "cell_type": "code",
   "execution_count": null,
   "id": "dfd24634",
   "metadata": {},
   "outputs": [],
   "source": []
  },
  {
   "cell_type": "code",
   "execution_count": null,
   "id": "3ab7e52c",
   "metadata": {},
   "outputs": [],
   "source": []
  },
  {
   "cell_type": "code",
   "execution_count": null,
   "id": "36bd1837",
   "metadata": {},
   "outputs": [],
   "source": []
  },
  {
   "cell_type": "code",
   "execution_count": null,
   "id": "96dc41a5",
   "metadata": {},
   "outputs": [],
   "source": []
  },
  {
   "cell_type": "code",
   "execution_count": null,
   "id": "fb503ce8",
   "metadata": {},
   "outputs": [],
   "source": []
  },
  {
   "cell_type": "code",
   "execution_count": null,
   "id": "d52c7c7d",
   "metadata": {},
   "outputs": [],
   "source": []
  },
  {
   "cell_type": "code",
   "execution_count": null,
   "id": "f773fb59",
   "metadata": {},
   "outputs": [],
   "source": []
  },
  {
   "cell_type": "code",
   "execution_count": null,
   "id": "4ded94f7",
   "metadata": {},
   "outputs": [],
   "source": []
  },
  {
   "cell_type": "code",
   "execution_count": null,
   "id": "288c05f0",
   "metadata": {},
   "outputs": [],
   "source": []
  },
  {
   "cell_type": "code",
   "execution_count": null,
   "id": "e5c16536",
   "metadata": {},
   "outputs": [],
   "source": []
  },
  {
   "cell_type": "code",
   "execution_count": null,
   "id": "8bbc5b03",
   "metadata": {},
   "outputs": [],
   "source": []
  },
  {
   "cell_type": "code",
   "execution_count": null,
   "id": "cef031d1",
   "metadata": {},
   "outputs": [],
   "source": []
  },
  {
   "cell_type": "code",
   "execution_count": null,
   "id": "e207a709",
   "metadata": {},
   "outputs": [],
   "source": []
  },
  {
   "cell_type": "code",
   "execution_count": null,
   "id": "7e670935",
   "metadata": {},
   "outputs": [],
   "source": []
  },
  {
   "cell_type": "code",
   "execution_count": null,
   "id": "85fa7669",
   "metadata": {},
   "outputs": [],
   "source": []
  },
  {
   "cell_type": "code",
   "execution_count": null,
   "id": "eb760737",
   "metadata": {},
   "outputs": [],
   "source": []
  },
  {
   "cell_type": "code",
   "execution_count": null,
   "id": "e03f6e67",
   "metadata": {},
   "outputs": [],
   "source": []
  },
  {
   "cell_type": "code",
   "execution_count": null,
   "id": "a190df6d",
   "metadata": {},
   "outputs": [],
   "source": []
  },
  {
   "cell_type": "code",
   "execution_count": null,
   "id": "7b94e633",
   "metadata": {},
   "outputs": [],
   "source": []
  },
  {
   "cell_type": "code",
   "execution_count": null,
   "id": "201a5d10",
   "metadata": {},
   "outputs": [],
   "source": []
  },
  {
   "cell_type": "code",
   "execution_count": null,
   "id": "1694bdd1",
   "metadata": {},
   "outputs": [],
   "source": []
  },
  {
   "cell_type": "code",
   "execution_count": null,
   "id": "6a6a2945",
   "metadata": {},
   "outputs": [],
   "source": []
  },
  {
   "cell_type": "code",
   "execution_count": null,
   "id": "5aba33a6",
   "metadata": {},
   "outputs": [],
   "source": []
  }
 ],
 "metadata": {
  "kernelspec": {
   "display_name": "Python 3 (ipykernel)",
   "language": "python",
   "name": "python3"
  },
  "language_info": {
   "codemirror_mode": {
    "name": "ipython",
    "version": 3
   },
   "file_extension": ".py",
   "mimetype": "text/x-python",
   "name": "python",
   "nbconvert_exporter": "python",
   "pygments_lexer": "ipython3",
   "version": "3.9.7"
  }
 },
 "nbformat": 4,
 "nbformat_minor": 5
}
