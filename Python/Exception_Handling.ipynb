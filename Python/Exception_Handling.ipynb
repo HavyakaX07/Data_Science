{
 "cells": [
  {
   "cell_type": "code",
   "execution_count": 7,
   "id": "08b55738",
   "metadata": {},
   "outputs": [
    {
     "name": "stdout",
     "output_type": "stream",
     "text": [
      "Enter number 110\n",
      "Enter number 20\n",
      "(<class 'ZeroDivisionError'>, ZeroDivisionError('division by zero'), <traceback object at 0x0000015F489E38C0>)\n",
      "division by zero\n",
      "Cleaning up bye bye....\n"
     ]
    }
   ],
   "source": [
    "import sys\n",
    "a=int(input('Enter number 1'))\n",
    "b=int(input('Enter number 2'))\n",
    "try:\n",
    "    c=a/b\n",
    "    print('C is ',c)\n",
    "except ArithmeticError as ae:\n",
    "    print(sys.exc_info())#Gives info about the exception\n",
    "    print(ae)#Gives the name of the exception\n",
    "finally:\n",
    "    print('Cleaning up bye bye....')\n",
    "    "
   ]
  },
  {
   "cell_type": "code",
   "execution_count": 28,
   "id": "5eaab690",
   "metadata": {},
   "outputs": [
    {
     "name": "stdout",
     "output_type": "stream",
     "text": [
      "Enter number 110\n",
      "Enter number 210\n",
      "C is  1.0\n",
      "Cleaning up bye bye....\n"
     ]
    }
   ],
   "source": [
    "#We can have multiple except block but it should be in child first and parent last order\n",
    "import sys\n",
    "a=int(input('Enter number 1'))\n",
    "b=int(input('Enter number 2'))\n",
    "try:\n",
    "    c=a/b\n",
    "    print('C is ',c)\n",
    "\n",
    "# except Exception as e: # this will give error because it is parent \n",
    "#     print(e)\n",
    "\n",
    "except ArithmeticError as ae:# it is child\n",
    "    print(sys.exc_info())#Gives info about the exception\n",
    "    print(ae)#Gives the name of the exception\n",
    "except Exception as e: # this will give error because it is parent \n",
    "    print(e)\n",
    "finally:\n",
    "    print('Cleaning up bye bye....')\n",
    "    "
   ]
  },
  {
   "cell_type": "code",
   "execution_count": 34,
   "id": "a1f1cd5c",
   "metadata": {},
   "outputs": [
    {
     "name": "stdout",
     "output_type": "stream",
     "text": [
      "Enter number 110\n",
      "Enter number 210\n",
      "Cleaning up bye bye....\n",
      "Try\n"
     ]
    }
   ],
   "source": [
    "#Return in tyr except finally\n",
    "import sys\n",
    "def test1():\n",
    "    a=int(input('Enter number 1'))\n",
    "    b=int(input('Enter number 2'))\n",
    "    try:\n",
    "        c=a/b\n",
    "        #return 'Try'#Go to finally block if not return from here only always going to run after code in finally block\n",
    "    except ArithmeticError as ae:\n",
    "        print(sys.exc_info())#Gives info about the exception\n",
    "        print(ae)#Gives the name of the exception\n",
    "        return 'Catch'#Go to finally block if not return from here only\n",
    "    else:#This will going to run if there is no exception\n",
    "        print('C is ',c)\n",
    "        return 'Else'\n",
    "    finally:\n",
    "        print('Cleaning up bye bye....')\n",
    "        #return 'Finally' # final value retruned from here if no return here in finally block then return happend from try or catch\n",
    "print(test1())\n"
   ]
  },
  {
   "cell_type": "code",
   "execution_count": 30,
   "id": "c5f73fa8",
   "metadata": {},
   "outputs": [
    {
     "name": "stdout",
     "output_type": "stream",
     "text": [
      "Enter number 110\n",
      "Enter number 210\n",
      "C is  1.0\n",
      "Cleaning up bye bye....\n"
     ]
    }
   ],
   "source": [
    "#Else block with try except\n",
    "import sys\n",
    "a=int(input('Enter number 1'))\n",
    "b=int(input('Enter number 2'))\n",
    "try:\n",
    "    c=a/b\n",
    "except ArithmeticError as ae:\n",
    "    print(sys.exc_info())#Gives info about the exception\n",
    "    print(ae)#Gives the name of the exception\n",
    "except Exception as e:\n",
    "    print(e)\n",
    "else:#IF no exception occured then it will run \n",
    "     print('C is ',c)\n",
    "finally:\n",
    "    print('Cleaning up bye bye....')"
   ]
  },
  {
   "cell_type": "code",
   "execution_count": 35,
   "id": "b461ef8a",
   "metadata": {},
   "outputs": [],
   "source": [
    "#Custom exception\n",
    "class UnderAge(Exception):\n",
    "    pass"
   ]
  },
  {
   "cell_type": "code",
   "execution_count": null,
   "id": "9e2e01fb",
   "metadata": {},
   "outputs": [],
   "source": [
    "try:\n",
    "    a=int(input('Enter your age '))\n",
    "    if(a<18):\n",
    "        raise(UnderAge(\"Your under age!\"))\n",
    "except UnderAge as ua:\n",
    "    print(ua)\n",
    "else:\n",
    "    print(\"Your eligible for vote!\")\n",
    "finally:\n",
    "    print('Age validation done!')"
   ]
  },
  {
   "cell_type": "code",
   "execution_count": null,
   "id": "9647c8c9",
   "metadata": {},
   "outputs": [],
   "source": []
  }
 ],
 "metadata": {
  "kernelspec": {
   "display_name": "Python 3 (ipykernel)",
   "language": "python",
   "name": "python3"
  },
  "language_info": {
   "codemirror_mode": {
    "name": "ipython",
    "version": 3
   },
   "file_extension": ".py",
   "mimetype": "text/x-python",
   "name": "python",
   "nbconvert_exporter": "python",
   "pygments_lexer": "ipython3",
   "version": "3.9.7"
  }
 },
 "nbformat": 4,
 "nbformat_minor": 5
}
