{
 "cells": [
  {
   "cell_type": "markdown",
   "id": "457e40be",
   "metadata": {},
   "source": [
    "## In this section we explore while loop"
   ]
  },
  {
   "cell_type": "markdown",
   "id": "9e7fe68e",
   "metadata": {},
   "source": [
    "#### This is used when we don't know about how many times We have to iterate the termination condition is any logical condition"
   ]
  },
  {
   "cell_type": "code",
   "execution_count": 1,
   "id": "06ce930d",
   "metadata": {},
   "outputs": [
    {
     "name": "stdout",
     "output_type": "stream",
     "text": [
      "0\n",
      "1\n",
      "2\n",
      "3\n",
      "4\n",
      "5\n",
      "6\n",
      "7\n",
      "8\n",
      "9\n",
      "10\n"
     ]
    }
   ],
   "source": [
    "i=0\n",
    "while(i<=10):\n",
    "    print(i)\n",
    "    i+=1"
   ]
  },
  {
   "cell_type": "code",
   "execution_count": 7,
   "id": "7d2c73f6",
   "metadata": {},
   "outputs": [
    {
     "name": "stdout",
     "output_type": "stream",
     "text": [
      "I dont find 6!\n"
     ]
    }
   ],
   "source": [
    "a=1#It is similar to for else\n",
    "while(a<=10): #be aware for infinite loop\n",
    "    if(a==6):\n",
    "        print('I found 6')\n",
    "        break\n",
    "    else:\n",
    "        a+=2\n",
    "else:\n",
    "    print('I dont find 6!')\n",
    "    \n",
    "#Continue to next iteration\n",
    "#pass is no op"
   ]
  },
  {
   "cell_type": "code",
   "execution_count": 12,
   "id": "0fd55dee",
   "metadata": {},
   "outputs": [],
   "source": [
    "#infinite loop example dont run \n",
    "a=0\n",
    "l=[]\n",
    "while(a<=(len(l))):\n",
    "      a+=1\n",
    "      l.append(a)"
   ]
  },
  {
   "cell_type": "markdown",
   "id": "0d35a671",
   "metadata": {},
   "source": [
    "## Functions"
   ]
  },
  {
   "cell_type": "code",
   "execution_count": 13,
   "id": "972b0678",
   "metadata": {},
   "outputs": [
    {
     "data": {
      "text/plain": [
       "function"
      ]
     },
     "execution_count": 13,
     "metadata": {},
     "output_type": "execute_result"
    }
   ],
   "source": [
    "def test():\n",
    "    pass\n",
    "type(test)"
   ]
  },
  {
   "cell_type": "code",
   "execution_count": 19,
   "id": "d049a500",
   "metadata": {},
   "outputs": [
    {
     "name": "stdout",
     "output_type": "stream",
     "text": [
      "my first funciton\n"
     ]
    }
   ],
   "source": [
    "def test():\n",
    "    print(\"my first funciton\")\n",
    "test()"
   ]
  },
  {
   "cell_type": "code",
   "execution_count": 24,
   "id": "5c43a0c0",
   "metadata": {},
   "outputs": [],
   "source": [
    "def test():\n",
    "    return 1,2,3,[1,2,3]#returns as tuple\n",
    "a,b,c,d=test()#assign this to a,b,c,d"
   ]
  },
  {
   "cell_type": "code",
   "execution_count": 25,
   "id": "e708d63e",
   "metadata": {},
   "outputs": [
    {
     "data": {
      "text/plain": [
       "1"
      ]
     },
     "execution_count": 25,
     "metadata": {},
     "output_type": "execute_result"
    }
   ],
   "source": [
    "a"
   ]
  },
  {
   "cell_type": "code",
   "execution_count": 26,
   "id": "fa89a1cf",
   "metadata": {},
   "outputs": [],
   "source": [
    "#_ will act as placeholder contains last value\n",
    "_,a,_,_=test()"
   ]
  },
  {
   "cell_type": "code",
   "execution_count": 27,
   "id": "101a2670",
   "metadata": {},
   "outputs": [
    {
     "data": {
      "text/plain": [
       "[1, 2, 3]"
      ]
     },
     "execution_count": 27,
     "metadata": {},
     "output_type": "execute_result"
    }
   ],
   "source": [
    "_"
   ]
  },
  {
   "cell_type": "code",
   "execution_count": 28,
   "id": "c5b39009",
   "metadata": {},
   "outputs": [
    {
     "data": {
      "text/plain": [
       "2"
      ]
     },
     "execution_count": 28,
     "metadata": {},
     "output_type": "execute_result"
    }
   ],
   "source": [
    "a"
   ]
  },
  {
   "cell_type": "code",
   "execution_count": 29,
   "id": "1a25e37f",
   "metadata": {},
   "outputs": [
    {
     "name": "stdout",
     "output_type": "stream",
     "text": [
      "2   4\n"
     ]
    }
   ],
   "source": [
    "def test(a,b):\n",
    "    print(a,' ',b)\n",
    "test(2,4)#Positonal parameter order matters"
   ]
  },
  {
   "cell_type": "code",
   "execution_count": 30,
   "id": "1f431e56",
   "metadata": {},
   "outputs": [
    {
     "name": "stdout",
     "output_type": "stream",
     "text": [
      "2   3\n"
     ]
    }
   ],
   "source": [
    "test(a=2,b=3)#Keyword parameter"
   ]
  },
  {
   "cell_type": "code",
   "execution_count": 31,
   "id": "1b1c843b",
   "metadata": {},
   "outputs": [
    {
     "name": "stdout",
     "output_type": "stream",
     "text": [
      "2   5\n"
     ]
    }
   ],
   "source": [
    "test(2,b=5)#positional parameter defind first and keyword parameter"
   ]
  },
  {
   "cell_type": "code",
   "execution_count": null,
   "id": "186926a8",
   "metadata": {},
   "outputs": [],
   "source": []
  }
 ],
 "metadata": {
  "kernelspec": {
   "display_name": "Python 3 (ipykernel)",
   "language": "python",
   "name": "python3"
  },
  "language_info": {
   "codemirror_mode": {
    "name": "ipython",
    "version": 3
   },
   "file_extension": ".py",
   "mimetype": "text/x-python",
   "name": "python",
   "nbconvert_exporter": "python",
   "pygments_lexer": "ipython3",
   "version": "3.9.7"
  }
 },
 "nbformat": 4,
 "nbformat_minor": 5
}
