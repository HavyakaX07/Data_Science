{
 "cells": [
  {
   "cell_type": "markdown",
   "id": "9a01580a",
   "metadata": {},
   "source": [
    "## In this section we are going to see about different types of data structures"
   ]
  },
  {
   "cell_type": "markdown",
   "id": "ee18039d",
   "metadata": {},
   "source": [
    "### List"
   ]
  },
  {
   "cell_type": "markdown",
   "id": "73d1fba6",
   "metadata": {},
   "source": [
    "List are heterogeneous data structue that can store varibale of any type and they are mutable"
   ]
  },
  {
   "cell_type": "code",
   "execution_count": 2,
   "id": "9be94ae1",
   "metadata": {},
   "outputs": [
    {
     "data": {
      "text/plain": [
       "[1, 2, 3, 'Prasanna', True, (6+5j)]"
      ]
     },
     "execution_count": 2,
     "metadata": {},
     "output_type": "execute_result"
    }
   ],
   "source": [
    "l=[1,2,3,'Prasanna',True,6+5j]\n",
    "l"
   ]
  },
  {
   "cell_type": "code",
   "execution_count": 3,
   "id": "6792afda",
   "metadata": {},
   "outputs": [
    {
     "data": {
      "text/plain": [
       "1"
      ]
     },
     "execution_count": 3,
     "metadata": {},
     "output_type": "execute_result"
    }
   ],
   "source": [
    "l[0]"
   ]
  },
  {
   "cell_type": "code",
   "execution_count": 5,
   "id": "d4536f24",
   "metadata": {},
   "outputs": [
    {
     "data": {
      "text/plain": [
       "[1, 2, 3, 'Prasanna', True]"
      ]
     },
     "execution_count": 5,
     "metadata": {},
     "output_type": "execute_result"
    }
   ],
   "source": [
    "l[0:-1]"
   ]
  },
  {
   "cell_type": "code",
   "execution_count": 6,
   "id": "e03158a3",
   "metadata": {},
   "outputs": [
    {
     "data": {
      "text/plain": [
       "[(6+5j), True]"
      ]
     },
     "execution_count": 6,
     "metadata": {},
     "output_type": "execute_result"
    }
   ],
   "source": [
    "l[-1:-3:-1]"
   ]
  },
  {
   "cell_type": "code",
   "execution_count": 7,
   "id": "6c4878d3",
   "metadata": {},
   "outputs": [
    {
     "data": {
      "text/plain": [
       "[3, 2]"
      ]
     },
     "execution_count": 7,
     "metadata": {},
     "output_type": "execute_result"
    }
   ],
   "source": [
    "l[2:0:-1]"
   ]
  },
  {
   "cell_type": "code",
   "execution_count": 8,
   "id": "3d138af4",
   "metadata": {},
   "outputs": [
    {
     "data": {
      "text/plain": [
       "[]"
      ]
     },
     "execution_count": 8,
     "metadata": {},
     "output_type": "execute_result"
    }
   ],
   "source": [
    "l[0:4:-1]"
   ]
  },
  {
   "cell_type": "code",
   "execution_count": 9,
   "id": "b20a23d5",
   "metadata": {},
   "outputs": [
    {
     "data": {
      "text/plain": [
       "['Prasanna', 3, 2, 1]"
      ]
     },
     "execution_count": 9,
     "metadata": {},
     "output_type": "execute_result"
    }
   ],
   "source": [
    "l[-3::-1]"
   ]
  },
  {
   "cell_type": "code",
   "execution_count": 13,
   "id": "d8310a58",
   "metadata": {},
   "outputs": [
    {
     "data": {
      "text/plain": [
       "[1]"
      ]
     },
     "execution_count": 13,
     "metadata": {},
     "output_type": "execute_result"
    }
   ],
   "source": [
    "l[0::-1]"
   ]
  },
  {
   "cell_type": "code",
   "execution_count": 14,
   "id": "6f72ade7",
   "metadata": {},
   "outputs": [
    {
     "data": {
      "text/plain": [
       "20"
      ]
     },
     "execution_count": 14,
     "metadata": {},
     "output_type": "execute_result"
    }
   ],
   "source": [
    "n=[2,4,6,8]\n",
    "sum(n)"
   ]
  },
  {
   "cell_type": "code",
   "execution_count": 16,
   "id": "0a350565",
   "metadata": {},
   "outputs": [],
   "source": [
    "n.append(10)#adds another var at end"
   ]
  },
  {
   "cell_type": "code",
   "execution_count": 17,
   "id": "e3114791",
   "metadata": {},
   "outputs": [
    {
     "data": {
      "text/plain": [
       "[2, 4, 6, 8, 10]"
      ]
     },
     "execution_count": 17,
     "metadata": {},
     "output_type": "execute_result"
    }
   ],
   "source": [
    "n"
   ]
  },
  {
   "cell_type": "code",
   "execution_count": 19,
   "id": "47ba4713",
   "metadata": {},
   "outputs": [
    {
     "data": {
      "text/plain": [
       "10"
      ]
     },
     "execution_count": 19,
     "metadata": {},
     "output_type": "execute_result"
    }
   ],
   "source": [
    "n.pop()#by default index is last one you can also pass your own index"
   ]
  },
  {
   "cell_type": "code",
   "execution_count": 20,
   "id": "0d3ca5d1",
   "metadata": {},
   "outputs": [
    {
     "data": {
      "text/plain": [
       "4"
      ]
     },
     "execution_count": 20,
     "metadata": {},
     "output_type": "execute_result"
    }
   ],
   "source": [
    "n.pop(1)"
   ]
  },
  {
   "cell_type": "code",
   "execution_count": 21,
   "id": "3a9f7b0f",
   "metadata": {},
   "outputs": [
    {
     "data": {
      "text/plain": [
       "[2, 6, 8]"
      ]
     },
     "execution_count": 21,
     "metadata": {},
     "output_type": "execute_result"
    }
   ],
   "source": [
    "n"
   ]
  },
  {
   "cell_type": "code",
   "execution_count": 22,
   "id": "49c60b3f",
   "metadata": {},
   "outputs": [],
   "source": [
    "n.remove(2)#Here we pass value not key"
   ]
  },
  {
   "cell_type": "code",
   "execution_count": 23,
   "id": "885adb90",
   "metadata": {},
   "outputs": [
    {
     "data": {
      "text/plain": [
       "[6, 8]"
      ]
     },
     "execution_count": 23,
     "metadata": {},
     "output_type": "execute_result"
    }
   ],
   "source": [
    "n"
   ]
  },
  {
   "cell_type": "code",
   "execution_count": 24,
   "id": "ca455738",
   "metadata": {},
   "outputs": [],
   "source": [
    "del l[0] #index"
   ]
  },
  {
   "cell_type": "code",
   "execution_count": 25,
   "id": "c6ac223f",
   "metadata": {},
   "outputs": [
    {
     "data": {
      "text/plain": [
       "[2, 3, 'Prasanna', True, (6+5j)]"
      ]
     },
     "execution_count": 25,
     "metadata": {},
     "output_type": "execute_result"
    }
   ],
   "source": [
    "l"
   ]
  },
  {
   "cell_type": "code",
   "execution_count": 26,
   "id": "b52df663",
   "metadata": {},
   "outputs": [],
   "source": [
    "n.insert(0,4)#where and what value index,value"
   ]
  },
  {
   "cell_type": "code",
   "execution_count": 27,
   "id": "8bee6963",
   "metadata": {},
   "outputs": [
    {
     "data": {
      "text/plain": [
       "[4, 6, 8]"
      ]
     },
     "execution_count": 27,
     "metadata": {},
     "output_type": "execute_result"
    }
   ],
   "source": [
    "n"
   ]
  },
  {
   "cell_type": "code",
   "execution_count": 28,
   "id": "cff108ac",
   "metadata": {},
   "outputs": [],
   "source": [
    "n.sort()"
   ]
  },
  {
   "cell_type": "code",
   "execution_count": 29,
   "id": "d23f84ae",
   "metadata": {},
   "outputs": [
    {
     "data": {
      "text/plain": [
       "[4, 6, 8]"
      ]
     },
     "execution_count": 29,
     "metadata": {},
     "output_type": "execute_result"
    }
   ],
   "source": [
    "n"
   ]
  },
  {
   "cell_type": "code",
   "execution_count": 30,
   "id": "0eef4d67",
   "metadata": {},
   "outputs": [],
   "source": [
    "n.insert(0,10)"
   ]
  },
  {
   "cell_type": "code",
   "execution_count": 31,
   "id": "c011df13",
   "metadata": {},
   "outputs": [
    {
     "data": {
      "text/plain": [
       "[10, 4, 6, 8]"
      ]
     },
     "execution_count": 31,
     "metadata": {},
     "output_type": "execute_result"
    }
   ],
   "source": [
    "n"
   ]
  },
  {
   "cell_type": "code",
   "execution_count": 32,
   "id": "bb8bb644",
   "metadata": {},
   "outputs": [
    {
     "data": {
      "text/plain": [
       "[4, 6, 8, 10]"
      ]
     },
     "execution_count": 32,
     "metadata": {},
     "output_type": "execute_result"
    }
   ],
   "source": [
    "sorted(n)# does not change original list"
   ]
  },
  {
   "cell_type": "code",
   "execution_count": 33,
   "id": "da1c5cad",
   "metadata": {},
   "outputs": [
    {
     "data": {
      "text/plain": [
       "[10, 4, 6, 8]"
      ]
     },
     "execution_count": 33,
     "metadata": {},
     "output_type": "execute_result"
    }
   ],
   "source": [
    "n"
   ]
  },
  {
   "cell_type": "code",
   "execution_count": 36,
   "id": "0af5b1f3",
   "metadata": {},
   "outputs": [],
   "source": [
    "n.sort(reverse=True)#Changes original one"
   ]
  },
  {
   "cell_type": "code",
   "execution_count": 37,
   "id": "3bb4cc5a",
   "metadata": {},
   "outputs": [
    {
     "data": {
      "text/plain": [
       "[10, 8, 6, 4]"
      ]
     },
     "execution_count": 37,
     "metadata": {},
     "output_type": "execute_result"
    }
   ],
   "source": [
    "n"
   ]
  },
  {
   "cell_type": "code",
   "execution_count": 38,
   "id": "07c5cf91",
   "metadata": {},
   "outputs": [],
   "source": [
    "ex_n=[12,14,16]\n",
    "n.extend(ex_n)#adding multiple elements n+ex_n"
   ]
  },
  {
   "cell_type": "code",
   "execution_count": 39,
   "id": "75cdd74a",
   "metadata": {},
   "outputs": [
    {
     "data": {
      "text/plain": [
       "[10, 8, 6, 4, 12, 14, 16]"
      ]
     },
     "execution_count": 39,
     "metadata": {},
     "output_type": "execute_result"
    }
   ],
   "source": [
    "n"
   ]
  },
  {
   "cell_type": "code",
   "execution_count": 40,
   "id": "7ce57208",
   "metadata": {},
   "outputs": [],
   "source": [
    "n.reverse()#changes original list"
   ]
  },
  {
   "cell_type": "code",
   "execution_count": 41,
   "id": "039017a3",
   "metadata": {},
   "outputs": [
    {
     "data": {
      "text/plain": [
       "[16, 14, 12, 4, 6, 8, 10]"
      ]
     },
     "execution_count": 41,
     "metadata": {},
     "output_type": "execute_result"
    }
   ],
   "source": [
    "n"
   ]
  },
  {
   "cell_type": "code",
   "execution_count": 42,
   "id": "4491ecf5",
   "metadata": {},
   "outputs": [
    {
     "data": {
      "text/plain": [
       "[16, 14, 12, 4, 6, 8, 10, 12, 14, 16]"
      ]
     },
     "execution_count": 42,
     "metadata": {},
     "output_type": "execute_result"
    }
   ],
   "source": [
    "re=n+ex_n#similar as extend\n",
    "re"
   ]
  },
  {
   "cell_type": "markdown",
   "id": "8b950a6a",
   "metadata": {},
   "source": [
    "#### Multi dimension List"
   ]
  },
  {
   "cell_type": "code",
   "execution_count": 43,
   "id": "f229c8fa",
   "metadata": {},
   "outputs": [],
   "source": [
    "l1=[1,2,3]\n",
    "l2=[10,20,30]\n",
    "l3=[100,200,300]\n",
    "al=[l1,l2,l3]"
   ]
  },
  {
   "cell_type": "code",
   "execution_count": 44,
   "id": "b299a6fe",
   "metadata": {},
   "outputs": [
    {
     "data": {
      "text/plain": [
       "[[1, 2, 3], [10, 20, 30], [100, 200, 300]]"
      ]
     },
     "execution_count": 44,
     "metadata": {},
     "output_type": "execute_result"
    }
   ],
   "source": [
    "al"
   ]
  },
  {
   "cell_type": "code",
   "execution_count": 45,
   "id": "0d7c491e",
   "metadata": {},
   "outputs": [
    {
     "data": {
      "text/plain": [
       "200"
      ]
     },
     "execution_count": 45,
     "metadata": {},
     "output_type": "execute_result"
    }
   ],
   "source": [
    "al[2][1]"
   ]
  },
  {
   "cell_type": "code",
   "execution_count": 46,
   "id": "b53ba0eb",
   "metadata": {},
   "outputs": [],
   "source": [
    "al.extend('Prasanna')#Split and append each charactor"
   ]
  },
  {
   "cell_type": "code",
   "execution_count": 47,
   "id": "707a0603",
   "metadata": {},
   "outputs": [
    {
     "data": {
      "text/plain": [
       "[[1, 2, 3],\n",
       " [10, 20, 30],\n",
       " [100, 200, 300],\n",
       " 'P',\n",
       " 'r',\n",
       " 'a',\n",
       " 's',\n",
       " 'a',\n",
       " 'n',\n",
       " 'n',\n",
       " 'a']"
      ]
     },
     "execution_count": 47,
     "metadata": {},
     "output_type": "execute_result"
    }
   ],
   "source": [
    "al"
   ]
  },
  {
   "cell_type": "code",
   "execution_count": 52,
   "id": "302f89ab",
   "metadata": {},
   "outputs": [
    {
     "data": {
      "text/plain": [
       "0"
      ]
     },
     "execution_count": 52,
     "metadata": {},
     "output_type": "execute_result"
    }
   ],
   "source": [
    "al.index([1,2,3])#Where(index) this is first occuring "
   ]
  },
  {
   "cell_type": "markdown",
   "id": "00dee0e4",
   "metadata": {},
   "source": [
    "### Tuple"
   ]
  },
  {
   "cell_type": "markdown",
   "id": "123a758e",
   "metadata": {},
   "source": [
    "#### It is also heterogeneous data structure but it is not mutable "
   ]
  },
  {
   "cell_type": "markdown",
   "id": "dd186d32",
   "metadata": {},
   "source": [
    "#### Note--->1.no append,extend,insert,pop,remove or item re-assignment"
   ]
  },
  {
   "cell_type": "markdown",
   "id": "8cc1940a",
   "metadata": {},
   "source": [
    "#### And index slicing is same as list"
   ]
  },
  {
   "cell_type": "code",
   "execution_count": 55,
   "id": "7daa3def",
   "metadata": {},
   "outputs": [
    {
     "data": {
      "text/plain": [
       "tuple"
      ]
     },
     "execution_count": 55,
     "metadata": {},
     "output_type": "execute_result"
    }
   ],
   "source": [
    "t=(1,2,3)\n",
    "t\n",
    "type(t)"
   ]
  },
  {
   "cell_type": "code",
   "execution_count": 59,
   "id": "3cb053ac",
   "metadata": {},
   "outputs": [
    {
     "data": {
      "text/plain": [
       "int"
      ]
     },
     "execution_count": 59,
     "metadata": {},
     "output_type": "execute_result"
    }
   ],
   "source": [
    "t1=(2)#If it it is empty then tuple\n",
    "type(t1)"
   ]
  },
  {
   "cell_type": "code",
   "execution_count": 61,
   "id": "06216c2a",
   "metadata": {},
   "outputs": [
    {
     "data": {
      "text/plain": [
       "dict"
      ]
     },
     "execution_count": 61,
     "metadata": {},
     "output_type": "execute_result"
    }
   ],
   "source": [
    "s={}#If it is empty then gives dict\n",
    "type(s)"
   ]
  },
  {
   "cell_type": "code",
   "execution_count": 64,
   "id": "072962ae",
   "metadata": {},
   "outputs": [
    {
     "data": {
      "text/plain": [
       "set"
      ]
     },
     "execution_count": 64,
     "metadata": {},
     "output_type": "execute_result"
    }
   ],
   "source": [
    "s={1,2,3}#It is set and unordered not indexing\n",
    "type(s)"
   ]
  },
  {
   "cell_type": "code",
   "execution_count": 67,
   "id": "19ebaa0a",
   "metadata": {},
   "outputs": [],
   "source": [
    "s.update([4,5])#adding many element to set"
   ]
  },
  {
   "cell_type": "code",
   "execution_count": 68,
   "id": "35b93acf",
   "metadata": {},
   "outputs": [
    {
     "data": {
      "text/plain": [
       "{1, 2, 3, 4, 5}"
      ]
     },
     "execution_count": 68,
     "metadata": {},
     "output_type": "execute_result"
    }
   ],
   "source": [
    "s"
   ]
  },
  {
   "cell_type": "code",
   "execution_count": 69,
   "id": "df9b47a2",
   "metadata": {},
   "outputs": [],
   "source": [
    "s.add(6)#Adding single element"
   ]
  },
  {
   "cell_type": "code",
   "execution_count": 70,
   "id": "1c6278a7",
   "metadata": {},
   "outputs": [
    {
     "data": {
      "text/plain": [
       "{1, 2, 3, 4, 5, 6}"
      ]
     },
     "execution_count": 70,
     "metadata": {},
     "output_type": "execute_result"
    }
   ],
   "source": [
    "s"
   ]
  },
  {
   "cell_type": "code",
   "execution_count": 71,
   "id": "40c7dc43",
   "metadata": {},
   "outputs": [
    {
     "data": {
      "text/plain": [
       "{'name': 'Abhi', 'age': 22, 'education': 'B.E'}"
      ]
     },
     "execution_count": 71,
     "metadata": {},
     "output_type": "execute_result"
    }
   ],
   "source": [
    "d={'name':'Prasanna','age':22,'education':'B.E','name':\"Abhi\"} # takes the latest name\n",
    "d"
   ]
  },
  {
   "cell_type": "code",
   "execution_count": 72,
   "id": "252b5f20",
   "metadata": {},
   "outputs": [],
   "source": [
    "#We can have string as key, tuple as key and don't have list as key and no concatenate of 2 dict"
   ]
  },
  {
   "cell_type": "code",
   "execution_count": 78,
   "id": "8cc9fc76",
   "metadata": {},
   "outputs": [
    {
     "data": {
      "text/plain": [
       "{1, 2, 3, 4, 5, 6, 10, 36, 54}"
      ]
     },
     "execution_count": 78,
     "metadata": {},
     "output_type": "execute_result"
    }
   ],
   "source": [
    "s2={2,10,4}\n",
    "s3={2,54,36}\n",
    "s.union(s2,s3)"
   ]
  },
  {
   "cell_type": "code",
   "execution_count": 79,
   "id": "02940b76",
   "metadata": {},
   "outputs": [],
   "source": [
    "s2.difference_update(s3)#updates the s2 after difference"
   ]
  },
  {
   "cell_type": "code",
   "execution_count": 80,
   "id": "2aa620ac",
   "metadata": {},
   "outputs": [
    {
     "data": {
      "text/plain": [
       "{4, 10}"
      ]
     },
     "execution_count": 80,
     "metadata": {},
     "output_type": "execute_result"
    }
   ],
   "source": [
    "s2"
   ]
  },
  {
   "cell_type": "code",
   "execution_count": 91,
   "id": "8d10b1ce",
   "metadata": {},
   "outputs": [
    {
     "ename": "KeyError",
     "evalue": "2",
     "output_type": "error",
     "traceback": [
      "\u001b[1;31m---------------------------------------------------------------------------\u001b[0m",
      "\u001b[1;31mKeyError\u001b[0m                                  Traceback (most recent call last)",
      "\u001b[1;32mC:\\Users\\PAE8E5~1.HEG\\AppData\\Local\\Temp/ipykernel_22356/2248672929.py\u001b[0m in \u001b[0;36m<module>\u001b[1;34m\u001b[0m\n\u001b[1;32m----> 1\u001b[1;33m \u001b[0ms2\u001b[0m\u001b[1;33m.\u001b[0m\u001b[0mremove\u001b[0m\u001b[1;33m(\u001b[0m\u001b[1;36m2\u001b[0m\u001b[1;33m)\u001b[0m\u001b[1;33m\u001b[0m\u001b[1;33m\u001b[0m\u001b[0m\n\u001b[0m",
      "\u001b[1;31mKeyError\u001b[0m: 2"
     ]
    }
   ],
   "source": [
    "s2.remove(2)#Gives error if value not there"
   ]
  },
  {
   "cell_type": "code",
   "execution_count": 92,
   "id": "37e5703e",
   "metadata": {},
   "outputs": [],
   "source": [
    "s2.discard(2)#it will not give error if value not there"
   ]
  },
  {
   "cell_type": "code",
   "execution_count": null,
   "id": "faa13aad",
   "metadata": {},
   "outputs": [],
   "source": []
  }
 ],
 "metadata": {
  "kernelspec": {
   "display_name": "Python 3 (ipykernel)",
   "language": "python",
   "name": "python3"
  },
  "language_info": {
   "codemirror_mode": {
    "name": "ipython",
    "version": 3
   },
   "file_extension": ".py",
   "mimetype": "text/x-python",
   "name": "python",
   "nbconvert_exporter": "python",
   "pygments_lexer": "ipython3",
   "version": "3.9.7"
  }
 },
 "nbformat": 4,
 "nbformat_minor": 5
}
