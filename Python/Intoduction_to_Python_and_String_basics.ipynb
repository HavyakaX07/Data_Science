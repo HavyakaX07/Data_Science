{
 "cells": [
  {
   "cell_type": "markdown",
   "id": "efa7a828",
   "metadata": {},
   "source": [
    "## Python Introduntion"
   ]
  },
  {
   "cell_type": "markdown",
   "id": "2f42a7f3",
   "metadata": {},
   "source": [
    "Python is an interpreted, object-oriented, high-level programming language with dynamic semantics. Its high-level built in data structures, combined with dynamic typing and dynamic binding, make it very attractive for Rapid Application Development, as well as for use as a scripting or glue language to connect existing components together"
   ]
  },
  {
   "cell_type": "markdown",
   "id": "4d579abc",
   "metadata": {},
   "source": [
    "#### Now what is Interpreter? Difference between Compiler and Interpreter?"
   ]
  },
  {
   "cell_type": "markdown",
   "id": "c372ac37",
   "metadata": {},
   "source": [
    "Compiler is a software that coverts hight level programming language to low level \n",
    "machine understandable language so that machine can understand it and execute.\n",
    "It reads the source code all at once and check for error after that it will generate intermediate code\n",
    "say assemply language that it is linked and loads after that it is coverted into lowlevel language.\n",
    "So inorder to store that intermediate code there is extra memory required that is the drawback.\n",
    "But overall execution speed is better than Compiler....It searchs for rigorouse optimisation path \n",
    "for the program.\n",
    "__________________________________________________________________________________________________\n",
    "\n",
    "Interpreter is also software that coverts highlevel programming language to lowlevel but it convets \n",
    "line by line so no intermediate code will be generated and hence memory efficient but since it reads\n",
    "line by line it is bit slower than compiler. No rigorouse optimisation path for the program.\n"
   ]
  },
  {
   "cell_type": "markdown",
   "id": "20ee65dd",
   "metadata": {},
   "source": [
    "#### Python is compiled or interpreted language?"
   ]
  },
  {
   "cell_type": "markdown",
   "id": "4646ee84",
   "metadata": {},
   "source": [
    "It is both. But compiled part is not shown. First source code is compiled and generates the byte code\n",
    "This byte code then executed by python virtual machine (pvm) this gives code according to underlying\n",
    "platform. As soon as you execute the code compiled file is get deleted so programmer does not get into\n",
    "trouble. to see the compiled version of file python -m py_compile yourfilename.py execute this\n",
    "This will give the compiled file then using this just run python compiled_file_name.pyc then it will \n",
    "execute the code. But some time pvm takes lot of time to read line by line so it may have JIT(Just in\n",
    "time) compiler that improves performance."
   ]
  },
  {
   "cell_type": "markdown",
   "id": "52988e98",
   "metadata": {},
   "source": [
    "#### What is dynamicaly typed language?"
   ]
  },
  {
   "cell_type": "markdown",
   "id": "b31dd7e5",
   "metadata": {},
   "source": [
    "In dynamically typed language type checking is done at runtime using interpreter. So no explicit \n",
    "mention of data type is required in python."
   ]
  },
  {
   "cell_type": "markdown",
   "id": "fbd891b5",
   "metadata": {},
   "source": [
    "## String Basics"
   ]
  },
  {
   "cell_type": "code",
   "execution_count": 6,
   "id": "f0c86dcf",
   "metadata": {},
   "outputs": [
    {
     "data": {
      "text/plain": [
       "2083905073264"
      ]
     },
     "execution_count": 6,
     "metadata": {},
     "output_type": "execute_result"
    }
   ],
   "source": [
    "i1='ineuron' #it is iterable that we can iterate over but we cant modify it \n",
    "id(i1)"
   ]
  },
  {
   "cell_type": "code",
   "execution_count": 2,
   "id": "14dd2e81",
   "metadata": {},
   "outputs": [
    {
     "data": {
      "text/plain": [
       "'i'"
      ]
     },
     "execution_count": 2,
     "metadata": {},
     "output_type": "execute_result"
    }
   ],
   "source": [
    "i1[0]#first index"
   ]
  },
  {
   "cell_type": "code",
   "execution_count": 3,
   "id": "40bd9715",
   "metadata": {},
   "outputs": [
    {
     "data": {
      "text/plain": [
       "'n'"
      ]
     },
     "execution_count": 3,
     "metadata": {},
     "output_type": "execute_result"
    }
   ],
   "source": [
    "i1[-1]#last index"
   ]
  },
  {
   "cell_type": "code",
   "execution_count": 10,
   "id": "596212c8",
   "metadata": {},
   "outputs": [],
   "source": [
    "i2='ineuron'#notice it is not creating another sting it is pointing to same obj ineuron"
   ]
  },
  {
   "cell_type": "code",
   "execution_count": 11,
   "id": "2f6f2ef5",
   "metadata": {},
   "outputs": [
    {
     "data": {
      "text/plain": [
       "2083905073264"
      ]
     },
     "execution_count": 11,
     "metadata": {},
     "output_type": "execute_result"
    }
   ],
   "source": [
    "id(i2)"
   ]
  },
  {
   "cell_type": "code",
   "execution_count": 12,
   "id": "47be23e0",
   "metadata": {},
   "outputs": [
    {
     "ename": "TypeError",
     "evalue": "'str' object does not support item assignment",
     "output_type": "error",
     "traceback": [
      "\u001b[1;31m---------------------------------------------------------------------------\u001b[0m",
      "\u001b[1;31mTypeError\u001b[0m                                 Traceback (most recent call last)",
      "\u001b[1;32mC:\\Users\\PAE8E5~1.HEG\\AppData\\Local\\Temp/ipykernel_18932/1200958299.py\u001b[0m in \u001b[0;36m<module>\u001b[1;34m\u001b[0m\n\u001b[1;32m----> 1\u001b[1;33m \u001b[0mi2\u001b[0m\u001b[1;33m[\u001b[0m\u001b[1;36m0\u001b[0m\u001b[1;33m]\u001b[0m\u001b[1;33m=\u001b[0m\u001b[1;34m'I'\u001b[0m\u001b[1;33m\u001b[0m\u001b[1;33m\u001b[0m\u001b[0m\n\u001b[0m",
      "\u001b[1;31mTypeError\u001b[0m: 'str' object does not support item assignment"
     ]
    }
   ],
   "source": [
    "i2[0]='I'#we cant modify the sting because it is thread safe and synchronized"
   ]
  },
  {
   "cell_type": "code",
   "execution_count": 27,
   "id": "875c0740",
   "metadata": {},
   "outputs": [
    {
     "name": "stdout",
     "output_type": "stream",
     "text": [
      "Ineuron\n"
     ]
    }
   ],
   "source": [
    "#best way to mutate the string is using list and change it and join it\n",
    "l=list(i2)\n",
    "l[0]='I'\n",
    "i2=\"\".join(l)\n",
    "print(i2)"
   ]
  },
  {
   "cell_type": "code",
   "execution_count": 28,
   "id": "806e3219",
   "metadata": {},
   "outputs": [
    {
     "data": {
      "text/plain": [
       "'Ineu'"
      ]
     },
     "execution_count": 28,
     "metadata": {},
     "output_type": "execute_result"
    }
   ],
   "source": [
    "i2[:-3]"
   ]
  },
  {
   "cell_type": "code",
   "execution_count": 29,
   "id": "ad53a0d3",
   "metadata": {},
   "outputs": [
    {
     "data": {
      "text/plain": [
       "'Ineuro'"
      ]
     },
     "execution_count": 29,
     "metadata": {},
     "output_type": "execute_result"
    }
   ],
   "source": [
    "i2[0:-1]"
   ]
  },
  {
   "cell_type": "code",
   "execution_count": 31,
   "id": "2da3c856",
   "metadata": {},
   "outputs": [
    {
     "data": {
      "text/plain": [
       "''"
      ]
     },
     "execution_count": 31,
     "metadata": {},
     "output_type": "execute_result"
    }
   ],
   "source": [
    "i2[-1:-1:-1]"
   ]
  },
  {
   "cell_type": "code",
   "execution_count": 32,
   "id": "22b48fcd",
   "metadata": {},
   "outputs": [
    {
     "data": {
      "text/plain": [
       "'Ie'"
      ]
     },
     "execution_count": 32,
     "metadata": {},
     "output_type": "execute_result"
    }
   ],
   "source": [
    "i2[0:4:2]"
   ]
  },
  {
   "cell_type": "code",
   "execution_count": 33,
   "id": "055afd2f",
   "metadata": {},
   "outputs": [
    {
     "data": {
      "text/plain": [
       "'noruenI'"
      ]
     },
     "execution_count": 33,
     "metadata": {},
     "output_type": "execute_result"
    }
   ],
   "source": [
    "i2[::-1]"
   ]
  },
  {
   "cell_type": "code",
   "execution_count": 34,
   "id": "7058a1ba",
   "metadata": {},
   "outputs": [
    {
     "data": {
      "text/plain": [
       "''"
      ]
     },
     "execution_count": 34,
     "metadata": {},
     "output_type": "execute_result"
    }
   ],
   "source": [
    "i2[-2:-6]"
   ]
  },
  {
   "cell_type": "code",
   "execution_count": 35,
   "id": "6b688791",
   "metadata": {},
   "outputs": [
    {
     "data": {
      "text/plain": [
       "'orue'"
      ]
     },
     "execution_count": 35,
     "metadata": {},
     "output_type": "execute_result"
    }
   ],
   "source": [
    "i2[-2:-6:-1]"
   ]
  },
  {
   "cell_type": "code",
   "execution_count": 36,
   "id": "c54cb417",
   "metadata": {},
   "outputs": [
    {
     "data": {
      "text/plain": [
       "7"
      ]
     },
     "execution_count": 36,
     "metadata": {},
     "output_type": "execute_result"
    }
   ],
   "source": [
    "len(i2)"
   ]
  },
  {
   "cell_type": "code",
   "execution_count": 37,
   "id": "68985484",
   "metadata": {},
   "outputs": [
    {
     "data": {
      "text/plain": [
       "'Ineuron Program'"
      ]
     },
     "execution_count": 37,
     "metadata": {},
     "output_type": "execute_result"
    }
   ],
   "source": [
    "i2+' Program'"
   ]
  },
  {
   "cell_type": "code",
   "execution_count": 38,
   "id": "22faaed1",
   "metadata": {},
   "outputs": [
    {
     "data": {
      "text/plain": [
       "'IneuronIneuronIneuronIneuron'"
      ]
     },
     "execution_count": 38,
     "metadata": {},
     "output_type": "execute_result"
    }
   ],
   "source": [
    "i2*4"
   ]
  },
  {
   "cell_type": "code",
   "execution_count": 49,
   "id": "176071f8",
   "metadata": {},
   "outputs": [
    {
     "data": {
      "text/plain": [
       "1"
      ]
     },
     "execution_count": 49,
     "metadata": {},
     "output_type": "execute_result"
    }
   ],
   "source": [
    "i2.count('n',0,-1)#Counts the number of occurence of sub string start and end index"
   ]
  },
  {
   "cell_type": "code",
   "execution_count": 56,
   "id": "84155b02",
   "metadata": {},
   "outputs": [
    {
     "data": {
      "text/plain": [
       "['I', 'euronfntn']"
      ]
     },
     "execution_count": 56,
     "metadata": {},
     "output_type": "execute_result"
    }
   ],
   "source": [
    "i2='Ineuronfntn'\n",
    "i2.split('n',1)#slpit where n occurs and second arg is max split here i specified 1 for unlimited split -1"
   ]
  },
  {
   "cell_type": "code",
   "execution_count": 62,
   "id": "d83ff3c1",
   "metadata": {},
   "outputs": [
    {
     "data": {
      "text/plain": [
       "'1234'"
      ]
     },
     "execution_count": 62,
     "metadata": {},
     "output_type": "execute_result"
    }
   ],
   "source": [
    "num=\"1234\"\n",
    "num.zfill(4)#only works for numeric string add extra 0 so that it became length you specified"
   ]
  },
  {
   "cell_type": "code",
   "execution_count": 71,
   "id": "e824e839",
   "metadata": {},
   "outputs": [
    {
     "data": {
      "text/plain": [
       "'Prasanna Hegde'"
      ]
     },
     "execution_count": 71,
     "metadata": {},
     "output_type": "execute_result"
    }
   ],
   "source": [
    "s='Prasanna\\tHegde'\n",
    "s.expandtabs(1)#Replaces the \\t with space you can specify the tabsize"
   ]
  },
  {
   "cell_type": "code",
   "execution_count": 72,
   "id": "da06508f",
   "metadata": {},
   "outputs": [
    {
     "data": {
      "text/plain": [
       "'****Ineuronfntn*****'"
      ]
     },
     "execution_count": 72,
     "metadata": {},
     "output_type": "execute_result"
    }
   ],
   "source": [
    "i2.center(20,'*')"
   ]
  },
  {
   "cell_type": "code",
   "execution_count": 73,
   "id": "f11015f8",
   "metadata": {},
   "outputs": [
    {
     "data": {
      "text/plain": [
       "False"
      ]
     },
     "execution_count": 73,
     "metadata": {},
     "output_type": "execute_result"
    }
   ],
   "source": [
    "i2.islower()"
   ]
  },
  {
   "cell_type": "code",
   "execution_count": 74,
   "id": "9d96c5e1",
   "metadata": {},
   "outputs": [
    {
     "data": {
      "text/plain": [
       "True"
      ]
     },
     "execution_count": 74,
     "metadata": {},
     "output_type": "execute_result"
    }
   ],
   "source": [
    "i2.istitle()"
   ]
  },
  {
   "cell_type": "code",
   "execution_count": 75,
   "id": "08180f35",
   "metadata": {},
   "outputs": [
    {
     "data": {
      "text/plain": [
       "False"
      ]
     },
     "execution_count": 75,
     "metadata": {},
     "output_type": "execute_result"
    }
   ],
   "source": [
    "i2='Ineuron Program'\n",
    "i2.isspace()"
   ]
  },
  {
   "cell_type": "code",
   "execution_count": 76,
   "id": "6155a8f9",
   "metadata": {},
   "outputs": [
    {
     "data": {
      "text/plain": [
       "False"
      ]
     },
     "execution_count": 76,
     "metadata": {},
     "output_type": "execute_result"
    }
   ],
   "source": [
    "num1='Prasanna1'\n",
    "num2='1234'\n",
    "num1.isdigit()"
   ]
  },
  {
   "cell_type": "code",
   "execution_count": 77,
   "id": "7104e619",
   "metadata": {},
   "outputs": [
    {
     "data": {
      "text/plain": [
       "False"
      ]
     },
     "execution_count": 77,
     "metadata": {},
     "output_type": "execute_result"
    }
   ],
   "source": [
    "num1.isnumeric()"
   ]
  },
  {
   "cell_type": "code",
   "execution_count": 78,
   "id": "d442badd",
   "metadata": {},
   "outputs": [
    {
     "data": {
      "text/plain": [
       "True"
      ]
     },
     "execution_count": 78,
     "metadata": {},
     "output_type": "execute_result"
    }
   ],
   "source": [
    "num2.isdigit()"
   ]
  },
  {
   "cell_type": "code",
   "execution_count": 81,
   "id": "f1adc7f8",
   "metadata": {},
   "outputs": [
    {
     "data": {
      "text/plain": [
       "True"
      ]
     },
     "execution_count": 81,
     "metadata": {},
     "output_type": "execute_result"
    }
   ],
   "source": [
    "num2.isnumeric()#Same thing"
   ]
  },
  {
   "cell_type": "code",
   "execution_count": 82,
   "id": "00a9a971",
   "metadata": {},
   "outputs": [
    {
     "data": {
      "text/plain": [
       "'cba'"
      ]
     },
     "execution_count": 82,
     "metadata": {},
     "output_type": "execute_result"
    }
   ],
   "source": [
    "''.join(reversed('abc'))"
   ]
  },
  {
   "cell_type": "code",
   "execution_count": 83,
   "id": "7f93f9d3",
   "metadata": {},
   "outputs": [
    {
     "data": {
      "text/plain": [
       "'INeuroN Program'"
      ]
     },
     "execution_count": 83,
     "metadata": {},
     "output_type": "execute_result"
    }
   ],
   "source": [
    "i2.replace('n','N')#You can also pass 3rd param as how many times same as split."
   ]
  },
  {
   "cell_type": "code",
   "execution_count": null,
   "id": "ff426f50",
   "metadata": {},
   "outputs": [],
   "source": []
  }
 ],
 "metadata": {
  "kernelspec": {
   "display_name": "Python 3 (ipykernel)",
   "language": "python",
   "name": "python3"
  },
  "language_info": {
   "codemirror_mode": {
    "name": "ipython",
    "version": 3
   },
   "file_extension": ".py",
   "mimetype": "text/x-python",
   "name": "python",
   "nbconvert_exporter": "python",
   "pygments_lexer": "ipython3",
   "version": "3.9.7"
  }
 },
 "nbformat": 4,
 "nbformat_minor": 5
}
